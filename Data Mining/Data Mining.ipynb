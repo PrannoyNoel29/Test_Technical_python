{
 "cells": [
  {
   "cell_type": "markdown",
   "metadata": {},
   "source": [
    "## Importing necessary libraries and dataset"
   ]
  },
  {
   "cell_type": "code",
   "execution_count": 47,
   "metadata": {},
   "outputs": [],
   "source": [
    "import pandas as pd\n",
    "import numpy as np\n",
    "import matplotlib.pyplot as plt\n",
    "import seaborn as sns\n",
    "from datetime import datetime, timedelta\n",
    "from dateutil.tz import gettz\n",
    "from pandas import Timedelta"
   ]
  },
  {
   "cell_type": "code",
   "execution_count": 2,
   "metadata": {
    "scrolled": true
   },
   "outputs": [
    {
     "name": "stdout",
     "output_type": "stream",
     "text": [
      "(385165, 13)\n"
     ]
    },
    {
     "data": {
      "text/html": [
       "<div>\n",
       "<style scoped>\n",
       "    .dataframe tbody tr th:only-of-type {\n",
       "        vertical-align: middle;\n",
       "    }\n",
       "\n",
       "    .dataframe tbody tr th {\n",
       "        vertical-align: top;\n",
       "    }\n",
       "\n",
       "    .dataframe thead th {\n",
       "        text-align: right;\n",
       "    }\n",
       "</style>\n",
       "<table border=\"1\" class=\"dataframe\">\n",
       "  <thead>\n",
       "    <tr style=\"text-align: right;\">\n",
       "      <th></th>\n",
       "      <th>company</th>\n",
       "      <th>live</th>\n",
       "      <th>mediaEngine</th>\n",
       "      <th>p2p</th>\n",
       "      <th>cdn</th>\n",
       "      <th>upload</th>\n",
       "      <th>peers_count</th>\n",
       "      <th>peers_match</th>\n",
       "      <th>timestamp</th>\n",
       "      <th>sessionDuration</th>\n",
       "      <th>playbackErrorCount</th>\n",
       "      <th>totalPlaybackErrorCount</th>\n",
       "      <th>content</th>\n",
       "    </tr>\n",
       "  </thead>\n",
       "  <tbody>\n",
       "    <tr>\n",
       "      <th>0</th>\n",
       "      <td>Streamroot TV</td>\n",
       "      <td>VOD</td>\n",
       "      <td>ME1</td>\n",
       "      <td>0.0</td>\n",
       "      <td>8507376.0</td>\n",
       "      <td>0.0</td>\n",
       "      <td>0.0</td>\n",
       "      <td>1</td>\n",
       "      <td>1562469807407</td>\n",
       "      <td>120000.0</td>\n",
       "      <td>0</td>\n",
       "      <td>0</td>\n",
       "      <td>content-09235</td>\n",
       "    </tr>\n",
       "    <tr>\n",
       "      <th>1</th>\n",
       "      <td>Streamroot TV</td>\n",
       "      <td>VOD</td>\n",
       "      <td>ME1</td>\n",
       "      <td>0.0</td>\n",
       "      <td>5778744.0</td>\n",
       "      <td>0.0</td>\n",
       "      <td>0.0</td>\n",
       "      <td>0</td>\n",
       "      <td>1562469927310</td>\n",
       "      <td>240000.0</td>\n",
       "      <td>0</td>\n",
       "      <td>0</td>\n",
       "      <td>content-09235</td>\n",
       "    </tr>\n",
       "    <tr>\n",
       "      <th>2</th>\n",
       "      <td>Streamroot TV</td>\n",
       "      <td>VOD</td>\n",
       "      <td>ME1</td>\n",
       "      <td>0.0</td>\n",
       "      <td>7692960.0</td>\n",
       "      <td>0.0</td>\n",
       "      <td>0.0</td>\n",
       "      <td>0</td>\n",
       "      <td>1562470047330</td>\n",
       "      <td>360000.0</td>\n",
       "      <td>0</td>\n",
       "      <td>0</td>\n",
       "      <td>content-09235</td>\n",
       "    </tr>\n",
       "    <tr>\n",
       "      <th>3</th>\n",
       "      <td>Streamroot TV</td>\n",
       "      <td>VOD</td>\n",
       "      <td>ME1</td>\n",
       "      <td>0.0</td>\n",
       "      <td>8229888.0</td>\n",
       "      <td>0.0</td>\n",
       "      <td>0.0</td>\n",
       "      <td>0</td>\n",
       "      <td>1562470167720</td>\n",
       "      <td>480000.0</td>\n",
       "      <td>0</td>\n",
       "      <td>0</td>\n",
       "      <td>content-09235</td>\n",
       "    </tr>\n",
       "    <tr>\n",
       "      <th>4</th>\n",
       "      <td>Streamroot TV</td>\n",
       "      <td>VOD</td>\n",
       "      <td>ME1</td>\n",
       "      <td>0.0</td>\n",
       "      <td>10387000.0</td>\n",
       "      <td>0.0</td>\n",
       "      <td>0.0</td>\n",
       "      <td>0</td>\n",
       "      <td>1562470287353</td>\n",
       "      <td>600000.0</td>\n",
       "      <td>0</td>\n",
       "      <td>0</td>\n",
       "      <td>content-09235</td>\n",
       "    </tr>\n",
       "  </tbody>\n",
       "</table>\n",
       "</div>"
      ],
      "text/plain": [
       "         company live mediaEngine  p2p         cdn  upload  peers_count  \\\n",
       "0  Streamroot TV  VOD         ME1  0.0   8507376.0     0.0          0.0   \n",
       "1  Streamroot TV  VOD         ME1  0.0   5778744.0     0.0          0.0   \n",
       "2  Streamroot TV  VOD         ME1  0.0   7692960.0     0.0          0.0   \n",
       "3  Streamroot TV  VOD         ME1  0.0   8229888.0     0.0          0.0   \n",
       "4  Streamroot TV  VOD         ME1  0.0  10387000.0     0.0          0.0   \n",
       "\n",
       "   peers_match      timestamp  sessionDuration  playbackErrorCount  \\\n",
       "0            1  1562469807407         120000.0                   0   \n",
       "1            0  1562469927310         240000.0                   0   \n",
       "2            0  1562470047330         360000.0                   0   \n",
       "3            0  1562470167720         480000.0                   0   \n",
       "4            0  1562470287353         600000.0                   0   \n",
       "\n",
       "   totalPlaybackErrorCount        content  \n",
       "0                        0  content-09235  \n",
       "1                        0  content-09235  \n",
       "2                        0  content-09235  \n",
       "3                        0  content-09235  \n",
       "4                        0  content-09235  "
      ]
     },
     "execution_count": 2,
     "metadata": {},
     "output_type": "execute_result"
    }
   ],
   "source": [
    "df = pd.read_csv('dstest.csv')\n",
    "print(df.shape)\n",
    "df.head()"
   ]
  },
  {
   "cell_type": "code",
   "execution_count": 3,
   "metadata": {},
   "outputs": [
    {
     "data": {
      "text/plain": [
       "Streamroot TV    370832\n",
       "Flash Infos       12432\n",
       "Sports News        1901\n",
       "Name: company, dtype: int64"
      ]
     },
     "execution_count": 3,
     "metadata": {},
     "output_type": "execute_result"
    }
   ],
   "source": [
    "# Displaying the number of fucntions\n",
    "df['company'].value_counts()"
   ]
  },
  {
   "cell_type": "code",
   "execution_count": 4,
   "metadata": {},
   "outputs": [
    {
     "data": {
      "text/html": [
       "<div>\n",
       "<style scoped>\n",
       "    .dataframe tbody tr th:only-of-type {\n",
       "        vertical-align: middle;\n",
       "    }\n",
       "\n",
       "    .dataframe tbody tr th {\n",
       "        vertical-align: top;\n",
       "    }\n",
       "\n",
       "    .dataframe thead th {\n",
       "        text-align: right;\n",
       "    }\n",
       "</style>\n",
       "<table border=\"1\" class=\"dataframe\">\n",
       "  <thead>\n",
       "    <tr style=\"text-align: right;\">\n",
       "      <th></th>\n",
       "      <th>company</th>\n",
       "      <th>live</th>\n",
       "      <th>mediaEngine</th>\n",
       "      <th>p2p</th>\n",
       "      <th>cdn</th>\n",
       "      <th>upload</th>\n",
       "      <th>peers_count</th>\n",
       "      <th>peers_match</th>\n",
       "      <th>timestamp</th>\n",
       "      <th>sessionDuration</th>\n",
       "      <th>playbackErrorCount</th>\n",
       "      <th>totalPlaybackErrorCount</th>\n",
       "      <th>content</th>\n",
       "    </tr>\n",
       "  </thead>\n",
       "  <tbody>\n",
       "    <tr>\n",
       "      <th>128891</th>\n",
       "      <td>Streamroot TV</td>\n",
       "      <td>VOD</td>\n",
       "      <td>ME1</td>\n",
       "      <td>386556764.0</td>\n",
       "      <td>0.0</td>\n",
       "      <td>0.0</td>\n",
       "      <td>20.83</td>\n",
       "      <td>40</td>\n",
       "      <td>1562465500429</td>\n",
       "      <td>240000.0</td>\n",
       "      <td>0</td>\n",
       "      <td>0</td>\n",
       "      <td>content-14609</td>\n",
       "    </tr>\n",
       "  </tbody>\n",
       "</table>\n",
       "</div>"
      ],
      "text/plain": [
       "              company live mediaEngine          p2p  cdn  upload  peers_count  \\\n",
       "128891  Streamroot TV  VOD         ME1  386556764.0  0.0     0.0        20.83   \n",
       "\n",
       "        peers_match      timestamp  sessionDuration  playbackErrorCount  \\\n",
       "128891           40  1562465500429         240000.0                   0   \n",
       "\n",
       "        totalPlaybackErrorCount        content  \n",
       "128891                        0  content-14609  "
      ]
     },
     "execution_count": 4,
     "metadata": {},
     "output_type": "execute_result"
    }
   ],
   "source": [
    "# Understanding the peers_count. \n",
    "df['peers_count'].value_counts()\n",
    "df[df['peers_count'] == 20.83]"
   ]
  },
  {
   "cell_type": "markdown",
   "metadata": {},
   "source": [
    "#### The first payload is identified after first 2 minutes which is 120000 in milli seconds. This is filtered then along by this value in column of 'sessionduration'\n",
    "#### The last payload is identified as the payload just before the first payload. "
   ]
  },
  {
   "cell_type": "code",
   "execution_count": 4,
   "metadata": {
    "collapsed": true
   },
   "outputs": [
    {
     "name": "stderr",
     "output_type": "stream",
     "text": [
      "/opt/anaconda3/lib/python3.7/site-packages/ipykernel_launcher.py:6: SettingWithCopyWarning: \n",
      "A value is trying to be set on a copy of a slice from a DataFrame\n",
      "\n",
      "See the caveats in the documentation: https://pandas.pydata.org/pandas-docs/stable/user_guide/indexing.html#returning-a-view-versus-a-copy\n",
      "  \n",
      "/opt/anaconda3/lib/python3.7/site-packages/ipykernel_launcher.py:7: SettingWithCopyWarning: \n",
      "A value is trying to be set on a copy of a slice from a DataFrame\n",
      "\n",
      "See the caveats in the documentation: https://pandas.pydata.org/pandas-docs/stable/user_guide/indexing.html#returning-a-view-versus-a-copy\n",
      "  import sys\n",
      "/opt/anaconda3/lib/python3.7/site-packages/ipykernel_launcher.py:15: SettingWithCopyWarning: \n",
      "A value is trying to be set on a copy of a slice from a DataFrame\n",
      "\n",
      "See the caveats in the documentation: https://pandas.pydata.org/pandas-docs/stable/user_guide/indexing.html#returning-a-view-versus-a-copy\n",
      "  from ipykernel import kernelapp as app\n",
      "/opt/anaconda3/lib/python3.7/site-packages/ipykernel_launcher.py:16: SettingWithCopyWarning: \n",
      "A value is trying to be set on a copy of a slice from a DataFrame\n",
      "\n",
      "See the caveats in the documentation: https://pandas.pydata.org/pandas-docs/stable/user_guide/indexing.html#returning-a-view-versus-a-copy\n",
      "  app.launch_new_instance()\n",
      "/opt/anaconda3/lib/python3.7/site-packages/ipykernel_launcher.py:9: SettingWithCopyWarning: \n",
      "A value is trying to be set on a copy of a slice from a DataFrame\n",
      "\n",
      "See the caveats in the documentation: https://pandas.pydata.org/pandas-docs/stable/user_guide/indexing.html#returning-a-view-versus-a-copy\n",
      "  if __name__ == '__main__':\n",
      "/opt/anaconda3/lib/python3.7/site-packages/ipykernel_launcher.py:10: SettingWithCopyWarning: \n",
      "A value is trying to be set on a copy of a slice from a DataFrame\n",
      "\n",
      "See the caveats in the documentation: https://pandas.pydata.org/pandas-docs/stable/user_guide/indexing.html#returning-a-view-versus-a-copy\n",
      "  # Remove the CWD from sys.path while we load stuff.\n"
     ]
    }
   ],
   "source": [
    "# This method of creating columns is not optmized process. But it serves the purpose in this case.\n",
    "df['isFirstPayload'] = ''\n",
    "df['isLastPayLoad'] = ''\n",
    "num = len(df)\n",
    "for i in range(num):\n",
    "    if i == 0:\n",
    "        df['isFirstPayload'][i] = True\n",
    "        df['isLastPayLoad'][i] = False\n",
    "    elif df['sessionDuration'][i] == 120000:\n",
    "        df['isFirstPayload'][i] = True\n",
    "        df['isLastPayLoad'][i-1] = True\n",
    "    elif i == num:\n",
    "        df['isFirstPayload'][i] = False\n",
    "        df['isLastPayLoad'][i] = True\n",
    "    else:\n",
    "        df['isFirstPayload'][i] = False\n",
    "        df['isLastPayLoad'][i-1] = False"
   ]
  },
  {
   "cell_type": "markdown",
   "metadata": {},
   "source": [
    "#### Adding a column 'readableDate' to that will be the beginning of the 2 minutes window during which the payload was sent."
   ]
  },
  {
   "cell_type": "code",
   "execution_count": 84,
   "metadata": {},
   "outputs": [
    {
     "data": {
      "text/plain": [
       "07:57    1968\n",
       "07:55    1941\n",
       "07:56    1908\n",
       "07:53    1893\n",
       "07:51    1893\n",
       "         ... \n",
       "02:03     207\n",
       "02:00     151\n",
       "02:01     139\n",
       "01:58      75\n",
       "01:59      70\n",
       "Name: readableDate, Length: 360, dtype: int64"
      ]
     },
     "execution_count": 84,
     "metadata": {},
     "output_type": "execute_result"
    }
   ],
   "source": [
    "from datetime import datetime\n",
    "df['readableDate'] =  ''\n",
    "df['readableDate'] = df['timestamp'].apply(lambda x: datetime.fromtimestamp(x/1000))\n",
    "df['readableDate'] = (df['readableDate'] - timedelta(minutes = 2)).dt.strftime('%H:%M')\n",
    "df['readableDate'].value_counts()"
   ]
  },
  {
   "cell_type": "markdown",
   "metadata": {},
   "source": [
    "#### Changing this again to seconds to make use of seconds. Assumption is that seconds should be 0 for every hour-minute. This can't be achieved through timestamp. So, convert the 'readableDate' again into H:M:S format. Unfortunately since we dont have seconds and date, python automatically starts this from year 1900. But we can take it out date later and display the time"
   ]
  },
  {
   "cell_type": "code",
   "execution_count": 85,
   "metadata": {},
   "outputs": [
    {
     "data": {
      "text/plain": [
       "1900-01-01 07:57:00    1968\n",
       "1900-01-01 07:55:00    1941\n",
       "1900-01-01 07:56:00    1908\n",
       "1900-01-01 07:51:00    1893\n",
       "1900-01-01 07:53:00    1893\n",
       "                       ... \n",
       "1900-01-01 02:03:00     207\n",
       "1900-01-01 02:00:00     151\n",
       "1900-01-01 02:01:00     139\n",
       "1900-01-01 01:58:00      75\n",
       "1900-01-01 01:59:00      70\n",
       "Name: readableDate, Length: 360, dtype: int64"
      ]
     },
     "execution_count": 85,
     "metadata": {},
     "output_type": "execute_result"
    }
   ],
   "source": [
    "df['readableDate'] = df['readableDate'].apply(lambda x: datetime.strptime(x, '%H:%M'))\n",
    "df['readableDate'].value_counts()"
   ]
  },
  {
   "cell_type": "code",
   "execution_count": 76,
   "metadata": {},
   "outputs": [],
   "source": [
    "# Filtering the data based on comapny\n",
    "df_stream_root = df[df['company'] == 'Streamroot TV']\n",
    "df_Flash_Infos = df[df['company'] == 'Flash Infos']\n",
    "df_Sports_News = df[df['company'] == 'Sports News']"
   ]
  },
  {
   "cell_type": "code",
   "execution_count": 20,
   "metadata": {
    "scrolled": true
   },
   "outputs": [
    {
     "data": {
      "text/plain": [
       "Live    1727\n",
       "VOD      174\n",
       "Name: live, dtype: int64"
      ]
     },
     "execution_count": 20,
     "metadata": {},
     "output_type": "execute_result"
    }
   ],
   "source": [
    "df_Sports_News['live'].value_counts()"
   ]
  },
  {
   "cell_type": "markdown",
   "metadata": {},
   "source": [
    "### Question - 1 Metric to evaluate the company's performance"
   ]
  },
  {
   "cell_type": "code",
   "execution_count": 32,
   "metadata": {},
   "outputs": [],
   "source": [
    "# THis is a metric which gives a tuple of viewing time in minutes, number of contents, errors. Depending upon the use case - \n",
    "# - we can generate another metric. For example, Sports News has lots of live TV. Other mainly stream VOD content. \n",
    "# Taking all this into consideration, this is just set as tuple. Not a single value which can define the perforamnce since many factoers play a role in it\n",
    "def performance_indicator(df):\n",
    "    contents = len(pd.unique(df['content']))\n",
    "    errors = df['playbackErrorCount'].sum()\n",
    "    df_new = df[df['isLastPayLoad'] == True]\n",
    "    total_duration = (df_new['sessionDuration'].sum())/60000\n",
    "    count = len(df_new)\n",
    "    view_time = total_duration/count\n",
    "    return (view_time, contents, errors)"
   ]
  },
  {
   "cell_type": "code",
   "execution_count": 33,
   "metadata": {},
   "outputs": [
    {
     "name": "stdout",
     "output_type": "stream",
     "text": [
      "The performance of Stream Root TV is (37.04052628935871, 16898, 0)\n"
     ]
    }
   ],
   "source": [
    "print('The performance of Stream Root TV is {}'.format(performance_indicator(df_stream_root)))"
   ]
  },
  {
   "cell_type": "code",
   "execution_count": 34,
   "metadata": {
    "scrolled": true
   },
   "outputs": [
    {
     "name": "stdout",
     "output_type": "stream",
     "text": [
      "The performance of Flash Infos is (30.675776397515527, 379, 4)\n"
     ]
    }
   ],
   "source": [
    "print('The performance of Flash Infos is {}'.format(performance_indicator(df_Flash_Infos)))"
   ]
  },
  {
   "cell_type": "code",
   "execution_count": 35,
   "metadata": {},
   "outputs": [
    {
     "name": "stdout",
     "output_type": "stream",
     "text": [
      "The performance of Flash Infos is (33.00869565217391, 21, 11)\n"
     ]
    }
   ],
   "source": [
    "print('The performance of Sports News is {}'.format(performance_indicator(df_Sports_News)))"
   ]
  },
  {
   "cell_type": "markdown",
   "metadata": {},
   "source": [
    "#### Overall Stream Root TV performed the best of 3 companies. It got the highest viewing time and no errors with highest number of contents\n",
    "#### A weighted average of all these  4 different can be made into a single metric. As of now, main metric is the viewing time. This is calculated by summing up all the session durations. This is then converted from milliseconds to minutes. "
   ]
  },
  {
   "cell_type": "markdown",
   "metadata": {},
   "source": [
    "## Question 2 - Determine the first payload of the viewer"
   ]
  },
  {
   "cell_type": "code",
   "execution_count": 27,
   "metadata": {
    "scrolled": true
   },
   "outputs": [
    {
     "data": {
      "text/plain": [
       "False    364331\n",
       "True      20834\n",
       "Name: isFirstPayload, dtype: int64"
      ]
     },
     "execution_count": 27,
     "metadata": {},
     "output_type": "execute_result"
    }
   ],
   "source": [
    "df['isFirstPayload'].value_counts()"
   ]
  },
  {
   "cell_type": "code",
   "execution_count": 28,
   "metadata": {},
   "outputs": [
    {
     "data": {
      "text/plain": [
       "content-15468    2267\n",
       "content-05333    2091\n",
       "content-05335    1556\n",
       "content-05334    1346\n",
       "content-13697    1221\n",
       "                 ... \n",
       "content-12052       1\n",
       "content-13938       1\n",
       "content-03366       1\n",
       "content-16100       1\n",
       "content-15765       1\n",
       "Name: content, Length: 17298, dtype: int64"
      ]
     },
     "execution_count": 28,
     "metadata": {},
     "output_type": "execute_result"
    }
   ],
   "source": [
    "df['content'].value_counts()"
   ]
  },
  {
   "cell_type": "markdown",
   "metadata": {},
   "source": [
    "#### There are 20834 distinct users that are streaming. These users are more than number of unique contents. This indicates there are multiple users streaming the same content."
   ]
  },
  {
   "cell_type": "markdown",
   "metadata": {},
   "source": [
    "## Question 3 - Playback error"
   ]
  },
  {
   "cell_type": "code",
   "execution_count": 36,
   "metadata": {
    "scrolled": true
   },
   "outputs": [
    {
     "data": {
      "text/plain": [
       "0    384912\n",
       "1       244\n",
       "3         6\n",
       "2         3\n",
       "Name: totalPlaybackErrorCount, dtype: int64"
      ]
     },
     "execution_count": 36,
     "metadata": {},
     "output_type": "execute_result"
    }
   ],
   "source": [
    "df['totalPlaybackErrorCount'].value_counts()"
   ]
  },
  {
   "cell_type": "code",
   "execution_count": 37,
   "metadata": {
    "scrolled": true
   },
   "outputs": [
    {
     "data": {
      "text/plain": [
       "0    385154\n",
       "1         8\n",
       "2         2\n",
       "3         1\n",
       "Name: playbackErrorCount, dtype: int64"
      ]
     },
     "execution_count": 37,
     "metadata": {},
     "output_type": "execute_result"
    }
   ],
   "source": [
    "df['playbackErrorCount'].value_counts()"
   ]
  },
  {
   "cell_type": "code",
   "execution_count": 39,
   "metadata": {},
   "outputs": [
    {
     "data": {
      "text/html": [
       "<div>\n",
       "<style scoped>\n",
       "    .dataframe tbody tr th:only-of-type {\n",
       "        vertical-align: middle;\n",
       "    }\n",
       "\n",
       "    .dataframe tbody tr th {\n",
       "        vertical-align: top;\n",
       "    }\n",
       "\n",
       "    .dataframe thead th {\n",
       "        text-align: right;\n",
       "    }\n",
       "</style>\n",
       "<table border=\"1\" class=\"dataframe\">\n",
       "  <thead>\n",
       "    <tr style=\"text-align: right;\">\n",
       "      <th></th>\n",
       "      <th>Time MM:SS</th>\n",
       "      <th>playbackErrorCount</th>\n",
       "      <th>totalPlaybackErrorCount</th>\n",
       "    </tr>\n",
       "  </thead>\n",
       "  <tbody>\n",
       "    <tr>\n",
       "      <th>0</th>\n",
       "      <td>00:00</td>\n",
       "      <td>0</td>\n",
       "      <td>0</td>\n",
       "    </tr>\n",
       "    <tr>\n",
       "      <th>1</th>\n",
       "      <td>02:00</td>\n",
       "      <td>0</td>\n",
       "      <td>0</td>\n",
       "    </tr>\n",
       "    <tr>\n",
       "      <th>2</th>\n",
       "      <td>04:00</td>\n",
       "      <td>1</td>\n",
       "      <td>1</td>\n",
       "    </tr>\n",
       "    <tr>\n",
       "      <th>3</th>\n",
       "      <td>06:00</td>\n",
       "      <td>0</td>\n",
       "      <td>1</td>\n",
       "    </tr>\n",
       "    <tr>\n",
       "      <th>4</th>\n",
       "      <td>08:00</td>\n",
       "      <td>1</td>\n",
       "      <td>2</td>\n",
       "    </tr>\n",
       "  </tbody>\n",
       "</table>\n",
       "</div>"
      ],
      "text/plain": [
       "  Time MM:SS playbackErrorCount totalPlaybackErrorCount\n",
       "0      00:00                  0                       0\n",
       "1      02:00                  0                       0\n",
       "2      04:00                  1                       1\n",
       "3      06:00                  0                       1\n",
       "4      08:00                  1                       2"
      ]
     },
     "execution_count": 39,
     "metadata": {},
     "output_type": "execute_result"
    }
   ],
   "source": [
    "df4 = pd.DataFrame(np.array([['00:00', 0, 0], ['02:00', 0, 0], ['04:00', 1, 1], ['06:00', 0, 1], ['08:00', 1, 2]]),\n",
    "                   columns=['Time MM:SS', 'playbackErrorCount', 'totalPlaybackErrorCount'])\n",
    "df4"
   ]
  },
  {
   "cell_type": "markdown",
   "metadata": {},
   "source": [
    "#### First Payload is recieved at 02:00. And the errors are added up at 2:30, 6:20 resulting in 2 total errors."
   ]
  },
  {
   "cell_type": "markdown",
   "metadata": {},
   "source": [
    "### Question - 4"
   ]
  },
  {
   "cell_type": "markdown",
   "metadata": {},
   "source": [
    "#### Here we take Stream Root TV and content with ID 'content-05335'"
   ]
  },
  {
   "cell_type": "code",
   "execution_count": 90,
   "metadata": {},
   "outputs": [],
   "source": [
    "# Creating a dataframe by filtering the selected content in StreamRoot TV\n",
    "df_sel_content = df_stream_root[df_stream_root['content'] == 'content-05335']"
   ]
  },
  {
   "cell_type": "code",
   "execution_count": 179,
   "metadata": {},
   "outputs": [],
   "source": [
    "# All the Datetime stamps are taken in to a set to see how manu distinct datetime are present \n",
    "date_stamps = set()\n",
    "for i in df_sel_content.index:\n",
    "    date_stamps.add(df_sel_content['readableDate'][i])\n",
    "date_stamps = sorted(date_stamps)"
   ]
  },
  {
   "cell_type": "code",
   "execution_count": 92,
   "metadata": {},
   "outputs": [
    {
     "data": {
      "text/plain": [
       "Timestamp('1900-01-01 07:57:00')"
      ]
     },
     "execution_count": 92,
     "metadata": {},
     "output_type": "execute_result"
    }
   ],
   "source": [
    "date_stamps[-1]"
   ]
  },
  {
   "cell_type": "code",
   "execution_count": 180,
   "metadata": {},
   "outputs": [],
   "source": [
    "# Creating a List of timestamps. This list will give 2 minute timespans which can give us concurrency. \n",
    "# This loops breaks down when it access penultimate timestamp. Thus adding the last playload time\n",
    "lt = []\n",
    "\n",
    "k = date_stamps[0]\n",
    "for i in range(len(date_stamps)):\n",
    "    if i == 0:\n",
    "        k = date_stamps[i]\n",
    "        lt.append(k)\n",
    "    elif lt[i-1] == date_stamps[-2]:\n",
    "        k2 = lt[i-1] + Timedelta('00:02:00')\n",
    "        lt.append(k2)\n",
    "        break\n",
    "    else:\n",
    "        k1 = lt[i-1] + Timedelta('00:02:00')\n",
    "        lt.append(k1)"
   ]
  },
  {
   "cell_type": "code",
   "execution_count": 98,
   "metadata": {},
   "outputs": [
    {
     "data": {
      "text/html": [
       "<div>\n",
       "<style scoped>\n",
       "    .dataframe tbody tr th:only-of-type {\n",
       "        vertical-align: middle;\n",
       "    }\n",
       "\n",
       "    .dataframe tbody tr th {\n",
       "        vertical-align: top;\n",
       "    }\n",
       "\n",
       "    .dataframe thead th {\n",
       "        text-align: right;\n",
       "    }\n",
       "</style>\n",
       "<table border=\"1\" class=\"dataframe\">\n",
       "  <thead>\n",
       "    <tr style=\"text-align: right;\">\n",
       "      <th></th>\n",
       "      <th>company</th>\n",
       "      <th>live</th>\n",
       "      <th>mediaEngine</th>\n",
       "      <th>p2p</th>\n",
       "      <th>cdn</th>\n",
       "      <th>upload</th>\n",
       "      <th>peers_count</th>\n",
       "      <th>peers_match</th>\n",
       "      <th>timestamp</th>\n",
       "      <th>sessionDuration</th>\n",
       "      <th>playbackErrorCount</th>\n",
       "      <th>totalPlaybackErrorCount</th>\n",
       "      <th>content</th>\n",
       "      <th>isFirstPayload</th>\n",
       "      <th>isLastPayLoad</th>\n",
       "      <th>readableDate</th>\n",
       "      <th>DateTime</th>\n",
       "      <th>readableDate_2</th>\n",
       "    </tr>\n",
       "  </thead>\n",
       "  <tbody>\n",
       "    <tr>\n",
       "      <th>167797</th>\n",
       "      <td>Streamroot TV</td>\n",
       "      <td>VOD</td>\n",
       "      <td>ME1</td>\n",
       "      <td>44236588.0</td>\n",
       "      <td>519632.0</td>\n",
       "      <td>0.0</td>\n",
       "      <td>16.96</td>\n",
       "      <td>40</td>\n",
       "      <td>1562457767702</td>\n",
       "      <td>120000.0</td>\n",
       "      <td>0</td>\n",
       "      <td>0</td>\n",
       "      <td>content-05335</td>\n",
       "      <td>True</td>\n",
       "      <td>False</td>\n",
       "      <td>1900-01-01 02:00:00</td>\n",
       "      <td>1.562458e+09</td>\n",
       "      <td>02:00:47</td>\n",
       "    </tr>\n",
       "  </tbody>\n",
       "</table>\n",
       "</div>"
      ],
      "text/plain": [
       "              company live mediaEngine         p2p       cdn  upload  \\\n",
       "167797  Streamroot TV  VOD         ME1  44236588.0  519632.0     0.0   \n",
       "\n",
       "        peers_count  peers_match      timestamp  sessionDuration  \\\n",
       "167797        16.96           40  1562457767702         120000.0   \n",
       "\n",
       "        playbackErrorCount  totalPlaybackErrorCount        content  \\\n",
       "167797                   0                        0  content-05335   \n",
       "\n",
       "       isFirstPayload isLastPayLoad        readableDate      DateTime  \\\n",
       "167797           True         False 1900-01-01 02:00:00  1.562458e+09   \n",
       "\n",
       "       readableDate_2  \n",
       "167797       02:00:47  "
      ]
     },
     "execution_count": 98,
     "metadata": {},
     "output_type": "execute_result"
    }
   ],
   "source": [
    "df_sel_content[(df_sel_content['readableDate'] >= lt[0]) & (df_sel_content['readableDate'] < lt[1])]"
   ]
  },
  {
   "cell_type": "code",
   "execution_count": 174,
   "metadata": {},
   "outputs": [],
   "source": [
    "# Creating a dictionary of timestamp and the concurrency values\n",
    "sel_content = {}\n",
    "for i in range(len(lt)-1):\n",
    "    ds_1 = lt[i]\n",
    "    ds_2 = lt[i+1]\n",
    "    df_exm_date = df_sel_content[(df_sel_content['readableDate'] >= ds_1) & (df_sel_content['readableDate'] < ds_2)]\n",
    "    val = len(df_exm_date)\n",
    "    sel_content[ds_1] = val"
   ]
  },
  {
   "cell_type": "code",
   "execution_count": 175,
   "metadata": {},
   "outputs": [],
   "source": [
    "# Putting timestamps and concurrency values in 2 different lists\n",
    "payload_start_time = []\n",
    "concurrency_value = []\n",
    "for time, val in sel_content.items():                                 \n",
    "    payload_start_time.append(time)\n",
    "    concurrency_value.append(val)"
   ]
  },
  {
   "cell_type": "code",
   "execution_count": 176,
   "metadata": {},
   "outputs": [],
   "source": [
    "# THis function strips out the unecessary date of the content we selected\n",
    "def strip_date(timestamp_list):\n",
    "    ls = []\n",
    "    for i in timestamp_list:\n",
    "        ts = str(i).strip('1900-01-01')\n",
    "        ts = ts[:-1]\n",
    "        ls.append(ts)\n",
    "    return ls"
   ]
  },
  {
   "cell_type": "code",
   "execution_count": 177,
   "metadata": {},
   "outputs": [],
   "source": [
    "payload_start_time = strip_date(payload_start_time)"
   ]
  },
  {
   "cell_type": "code",
   "execution_count": 178,
   "metadata": {},
   "outputs": [
    {
     "data": {
      "image/png": "[encoded data removed]",
      "text/plain": [
       "<Figure size 1440x720 with 1 Axes>"
      ]
     },
     "metadata": {
      "needs_background": "light"
     },
     "output_type": "display_data"
    }
   ],
   "source": [
    "# The x-axis ticks could be better. \n",
    "plt.figure(figsize=(20, 10))\n",
    "plt.plot(payload_start_time, concurrency_value)\n",
    "plt.show()"
   ]
  },
  {
   "cell_type": "markdown",
   "metadata": {},
   "source": [
    "#### 4.3 Average Performance when concurrency is less than 10"
   ]
  },
  {
   "cell_type": "code",
   "execution_count": 194,
   "metadata": {},
   "outputs": [],
   "source": [
    "new_dict = dict((k, v) for k, v in sel_content.items() if v < 10)\n",
    "keys = [k for k, v in new_dict.items()]"
   ]
  },
  {
   "cell_type": "code",
   "execution_count": 205,
   "metadata": {},
   "outputs": [
    {
     "data": {
      "text/plain": [
       "Timestamp('1900-01-01 02:00:00')"
      ]
     },
     "execution_count": 205,
     "metadata": {},
     "output_type": "execute_result"
    }
   ],
   "source": [
    "keys[0] "
   ]
  },
  {
   "cell_type": "code",
   "execution_count": 206,
   "metadata": {},
   "outputs": [],
   "source": [
    "# Creating a new dataframe which will append the payloads for 2 minute span where the concurrency is less than 10\n",
    "df_conc_10 = pd.DataFrame()\n",
    "for i in range(len(keys)-1):\n",
    "    ds_1 = keys[i]\n",
    "    ds_2 = ds_1 + Timedelta('00:02:00')  \n",
    "    df_exm_date = df_sel_content[(df_sel_content['readableDate'] >= ds_1) & (df_sel_content['readableDate'] < ds_2)]\n",
    "    df_conc_10 = df_conc_10.append(df_exm_date)"
   ]
  },
  {
   "cell_type": "code",
   "execution_count": 207,
   "metadata": {},
   "outputs": [
    {
     "name": "stdout",
     "output_type": "stream",
     "text": [
      "The average performance when concurrency is less than 10 is (27.833333333333332, 1, 0)\n"
     ]
    }
   ],
   "source": [
    "val_10 = performance_indicator(df_conc_10)\n",
    "print('The average performance when concurrency is less than 10 is {}'.format(val_10))"
   ]
  },
  {
   "cell_type": "code",
   "execution_count": 210,
   "metadata": {},
   "outputs": [
    {
     "name": "stdout",
     "output_type": "stream",
     "text": [
      "The performance content-05335 is (50.20338983050848, 1, 0)\n"
     ]
    }
   ],
   "source": [
    "val_total = performance_indicator(df_sel_content)\n",
    "print('The performance content-05335 is {}'.format(val_total))"
   ]
  },
  {
   "cell_type": "markdown",
   "metadata": {},
   "source": [
    "#### We can see a difference in the performance values. The total performance value for the whole content is 50.2 while the average performance when concurrency less than 10 is 27.8"
   ]
  },
  {
   "cell_type": "markdown",
   "metadata": {},
   "source": [
    "#### 4.4 Starting from which concurrency can we say there is a 75% chance that the performance on a content is higher than 80%?"
   ]
  },
  {
   "cell_type": "markdown",
   "metadata": {},
   "source": [
    "#### This question can be answered by graphs or plots. Let's plot a graph between concurrency and time. We need to identify the point of maximum concurrency for a selected time period. This should be performed for all the contents which are required. \n",
    "#### Then Maximum 80% value of concurrency should be identified. SImilarly Minimim 80 % of the content should be identified. The concurrency interval is set between [min_concurrency, max_concurrency]. This interval can be break down into 4 parts. The concurrency value where the 3rd sub interval ends is the end value. After this we have 75% chance that performance on a content is higher than 80%.  This process can be applied when there are many contents. And also here is a limitation that chance is not defined. Chance can be based on many factors. \n",
    "#### We shall take the above graph plotted. The maximum concurrency value is 26 and 80% of it is 20.8. To identify the 75% chance if obtaining this value, we need a basis to apply it."
   ]
  },
  {
   "cell_type": "code",
   "execution_count": null,
   "metadata": {},
   "outputs": [],
   "source": []
  }
 ],
 "metadata": {
  "kernelspec": {
   "display_name": "Python 3",
   "language": "python",
   "name": "python3"
  },
  "language_info": {
   "codemirror_mode": {
    "name": "ipython",
    "version": 3
   },
   "file_extension": ".py",
   "mimetype": "text/x-python",
   "name": "python",
   "nbconvert_exporter": "python",
   "pygments_lexer": "ipython3",
   "version": "3.7.6"
  }
 },
 "nbformat": 4,
 "nbformat_minor": 4
}
