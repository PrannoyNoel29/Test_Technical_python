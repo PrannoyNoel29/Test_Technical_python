{
 "cells": [
  {
   "cell_type": "markdown",
   "metadata": {},
   "source": [
    "## Importing necessary libraries and dataset"
   ]
  },
  {
   "cell_type": "code",
   "execution_count": 1,
   "metadata": {},
   "outputs": [],
   "source": [
    "import pandas as pd\n",
    "import numpy as np\n",
    "import matplotlib.pyplot as plt\n",
    "import seaborn as sns\n",
    "from datetime import datetime, timedelta\n",
    "from dateutil.tz import gettz"
   ]
  },
  {
   "cell_type": "code",
   "execution_count": 2,
   "metadata": {
    "scrolled": true
   },
   "outputs": [
    {
     "name": "stdout",
     "output_type": "stream",
     "text": [
      "(385165, 13)\n"
     ]
    },
    {
     "data": {
      "text/html": [
       "<div>\n",
       "<style scoped>\n",
       "    .dataframe tbody tr th:only-of-type {\n",
       "        vertical-align: middle;\n",
       "    }\n",
       "\n",
       "    .dataframe tbody tr th {\n",
       "        vertical-align: top;\n",
       "    }\n",
       "\n",
       "    .dataframe thead th {\n",
       "        text-align: right;\n",
       "    }\n",
       "</style>\n",
       "<table border=\"1\" class=\"dataframe\">\n",
       "  <thead>\n",
       "    <tr style=\"text-align: right;\">\n",
       "      <th></th>\n",
       "      <th>company</th>\n",
       "      <th>live</th>\n",
       "      <th>mediaEngine</th>\n",
       "      <th>p2p</th>\n",
       "      <th>cdn</th>\n",
       "      <th>upload</th>\n",
       "      <th>peers_count</th>\n",
       "      <th>peers_match</th>\n",
       "      <th>timestamp</th>\n",
       "      <th>sessionDuration</th>\n",
       "      <th>playbackErrorCount</th>\n",
       "      <th>totalPlaybackErrorCount</th>\n",
       "      <th>content</th>\n",
       "    </tr>\n",
       "  </thead>\n",
       "  <tbody>\n",
       "    <tr>\n",
       "      <th>0</th>\n",
       "      <td>Streamroot TV</td>\n",
       "      <td>VOD</td>\n",
       "      <td>ME1</td>\n",
       "      <td>0.0</td>\n",
       "      <td>8507376.0</td>\n",
       "      <td>0.0</td>\n",
       "      <td>0.0</td>\n",
       "      <td>1</td>\n",
       "      <td>1562469807407</td>\n",
       "      <td>120000.0</td>\n",
       "      <td>0</td>\n",
       "      <td>0</td>\n",
       "      <td>content-09235</td>\n",
       "    </tr>\n",
       "    <tr>\n",
       "      <th>1</th>\n",
       "      <td>Streamroot TV</td>\n",
       "      <td>VOD</td>\n",
       "      <td>ME1</td>\n",
       "      <td>0.0</td>\n",
       "      <td>5778744.0</td>\n",
       "      <td>0.0</td>\n",
       "      <td>0.0</td>\n",
       "      <td>0</td>\n",
       "      <td>1562469927310</td>\n",
       "      <td>240000.0</td>\n",
       "      <td>0</td>\n",
       "      <td>0</td>\n",
       "      <td>content-09235</td>\n",
       "    </tr>\n",
       "    <tr>\n",
       "      <th>2</th>\n",
       "      <td>Streamroot TV</td>\n",
       "      <td>VOD</td>\n",
       "      <td>ME1</td>\n",
       "      <td>0.0</td>\n",
       "      <td>7692960.0</td>\n",
       "      <td>0.0</td>\n",
       "      <td>0.0</td>\n",
       "      <td>0</td>\n",
       "      <td>1562470047330</td>\n",
       "      <td>360000.0</td>\n",
       "      <td>0</td>\n",
       "      <td>0</td>\n",
       "      <td>content-09235</td>\n",
       "    </tr>\n",
       "    <tr>\n",
       "      <th>3</th>\n",
       "      <td>Streamroot TV</td>\n",
       "      <td>VOD</td>\n",
       "      <td>ME1</td>\n",
       "      <td>0.0</td>\n",
       "      <td>8229888.0</td>\n",
       "      <td>0.0</td>\n",
       "      <td>0.0</td>\n",
       "      <td>0</td>\n",
       "      <td>1562470167720</td>\n",
       "      <td>480000.0</td>\n",
       "      <td>0</td>\n",
       "      <td>0</td>\n",
       "      <td>content-09235</td>\n",
       "    </tr>\n",
       "    <tr>\n",
       "      <th>4</th>\n",
       "      <td>Streamroot TV</td>\n",
       "      <td>VOD</td>\n",
       "      <td>ME1</td>\n",
       "      <td>0.0</td>\n",
       "      <td>10387000.0</td>\n",
       "      <td>0.0</td>\n",
       "      <td>0.0</td>\n",
       "      <td>0</td>\n",
       "      <td>1562470287353</td>\n",
       "      <td>600000.0</td>\n",
       "      <td>0</td>\n",
       "      <td>0</td>\n",
       "      <td>content-09235</td>\n",
       "    </tr>\n",
       "  </tbody>\n",
       "</table>\n",
       "</div>"
      ],
      "text/plain": [
       "         company live mediaEngine  p2p         cdn  upload  peers_count  \\\n",
       "0  Streamroot TV  VOD         ME1  0.0   8507376.0     0.0          0.0   \n",
       "1  Streamroot TV  VOD         ME1  0.0   5778744.0     0.0          0.0   \n",
       "2  Streamroot TV  VOD         ME1  0.0   7692960.0     0.0          0.0   \n",
       "3  Streamroot TV  VOD         ME1  0.0   8229888.0     0.0          0.0   \n",
       "4  Streamroot TV  VOD         ME1  0.0  10387000.0     0.0          0.0   \n",
       "\n",
       "   peers_match      timestamp  sessionDuration  playbackErrorCount  \\\n",
       "0            1  1562469807407         120000.0                   0   \n",
       "1            0  1562469927310         240000.0                   0   \n",
       "2            0  1562470047330         360000.0                   0   \n",
       "3            0  1562470167720         480000.0                   0   \n",
       "4            0  1562470287353         600000.0                   0   \n",
       "\n",
       "   totalPlaybackErrorCount        content  \n",
       "0                        0  content-09235  \n",
       "1                        0  content-09235  \n",
       "2                        0  content-09235  \n",
       "3                        0  content-09235  \n",
       "4                        0  content-09235  "
      ]
     },
     "execution_count": 2,
     "metadata": {},
     "output_type": "execute_result"
    }
   ],
   "source": [
    "df = pd.read_csv('dstest.csv')\n",
    "print(df.shape)\n",
    "df.head()"
   ]
  },
  {
   "cell_type": "code",
   "execution_count": 3,
   "metadata": {},
   "outputs": [
    {
     "data": {
      "text/plain": [
       "Streamroot TV    370832\n",
       "Flash Infos       12432\n",
       "Sports News        1901\n",
       "Name: company, dtype: int64"
      ]
     },
     "execution_count": 3,
     "metadata": {},
     "output_type": "execute_result"
    }
   ],
   "source": [
    "df['company'].value_counts()"
   ]
  },
  {
   "cell_type": "code",
   "execution_count": 4,
   "metadata": {},
   "outputs": [
    {
     "data": {
      "text/html": [
       "<div>\n",
       "<style scoped>\n",
       "    .dataframe tbody tr th:only-of-type {\n",
       "        vertical-align: middle;\n",
       "    }\n",
       "\n",
       "    .dataframe tbody tr th {\n",
       "        vertical-align: top;\n",
       "    }\n",
       "\n",
       "    .dataframe thead th {\n",
       "        text-align: right;\n",
       "    }\n",
       "</style>\n",
       "<table border=\"1\" class=\"dataframe\">\n",
       "  <thead>\n",
       "    <tr style=\"text-align: right;\">\n",
       "      <th></th>\n",
       "      <th>company</th>\n",
       "      <th>live</th>\n",
       "      <th>mediaEngine</th>\n",
       "      <th>p2p</th>\n",
       "      <th>cdn</th>\n",
       "      <th>upload</th>\n",
       "      <th>peers_count</th>\n",
       "      <th>peers_match</th>\n",
       "      <th>timestamp</th>\n",
       "      <th>sessionDuration</th>\n",
       "      <th>playbackErrorCount</th>\n",
       "      <th>totalPlaybackErrorCount</th>\n",
       "      <th>content</th>\n",
       "    </tr>\n",
       "  </thead>\n",
       "  <tbody>\n",
       "    <tr>\n",
       "      <th>128891</th>\n",
       "      <td>Streamroot TV</td>\n",
       "      <td>VOD</td>\n",
       "      <td>ME1</td>\n",
       "      <td>386556764.0</td>\n",
       "      <td>0.0</td>\n",
       "      <td>0.0</td>\n",
       "      <td>20.83</td>\n",
       "      <td>40</td>\n",
       "      <td>1562465500429</td>\n",
       "      <td>240000.0</td>\n",
       "      <td>0</td>\n",
       "      <td>0</td>\n",
       "      <td>content-14609</td>\n",
       "    </tr>\n",
       "  </tbody>\n",
       "</table>\n",
       "</div>"
      ],
      "text/plain": [
       "              company live mediaEngine          p2p  cdn  upload  peers_count  \\\n",
       "128891  Streamroot TV  VOD         ME1  386556764.0  0.0     0.0        20.83   \n",
       "\n",
       "        peers_match      timestamp  sessionDuration  playbackErrorCount  \\\n",
       "128891           40  1562465500429         240000.0                   0   \n",
       "\n",
       "        totalPlaybackErrorCount        content  \n",
       "128891                        0  content-14609  "
      ]
     },
     "execution_count": 4,
     "metadata": {},
     "output_type": "execute_result"
    }
   ],
   "source": [
    "df['peers_count'].value_counts()\n",
    "df[df['peers_count'] == 20.83]"
   ]
  },
  {
   "cell_type": "code",
   "execution_count": 103,
   "metadata": {},
   "outputs": [
    {
     "data": {
      "text/plain": [
       "company                    Streamroot TV\n",
       "live                                 VOD\n",
       "mediaEngine                          ME1\n",
       "p2p                                    0\n",
       "cdn                                    0\n",
       "upload                       6.73996e+06\n",
       "peers_count                        16.73\n",
       "peers_match                           40\n",
       "timestamp                  1562479110208\n",
       "sessionDuration                 2.28e+06\n",
       "playbackErrorCount                     0\n",
       "totalPlaybackErrorCount                0\n",
       "content                    content-05335\n",
       "readableDate                       07:56\n",
       "isFirstPayload                          \n",
       "isLastPayLoad                           \n",
       "Name: 385164, dtype: object"
      ]
     },
     "execution_count": 103,
     "metadata": {},
     "output_type": "execute_result"
    }
   ],
   "source": [
    "df.iloc[-1]"
   ]
  },
  {
   "cell_type": "code",
   "execution_count": 6,
   "metadata": {
    "collapsed": true
   },
   "outputs": [
    {
     "name": "stderr",
     "output_type": "stream",
     "text": [
      "/opt/anaconda3/lib/python3.7/site-packages/ipykernel_launcher.py:6: SettingWithCopyWarning: \n",
      "A value is trying to be set on a copy of a slice from a DataFrame\n",
      "\n",
      "See the caveats in the documentation: https://pandas.pydata.org/pandas-docs/stable/user_guide/indexing.html#returning-a-view-versus-a-copy\n",
      "  \n",
      "/opt/anaconda3/lib/python3.7/site-packages/ipykernel_launcher.py:7: SettingWithCopyWarning: \n",
      "A value is trying to be set on a copy of a slice from a DataFrame\n",
      "\n",
      "See the caveats in the documentation: https://pandas.pydata.org/pandas-docs/stable/user_guide/indexing.html#returning-a-view-versus-a-copy\n",
      "  import sys\n",
      "/opt/anaconda3/lib/python3.7/site-packages/ipykernel_launcher.py:15: SettingWithCopyWarning: \n",
      "A value is trying to be set on a copy of a slice from a DataFrame\n",
      "\n",
      "See the caveats in the documentation: https://pandas.pydata.org/pandas-docs/stable/user_guide/indexing.html#returning-a-view-versus-a-copy\n",
      "  from ipykernel import kernelapp as app\n",
      "/opt/anaconda3/lib/python3.7/site-packages/ipykernel_launcher.py:16: SettingWithCopyWarning: \n",
      "A value is trying to be set on a copy of a slice from a DataFrame\n",
      "\n",
      "See the caveats in the documentation: https://pandas.pydata.org/pandas-docs/stable/user_guide/indexing.html#returning-a-view-versus-a-copy\n",
      "  app.launch_new_instance()\n",
      "/opt/anaconda3/lib/python3.7/site-packages/ipykernel_launcher.py:9: SettingWithCopyWarning: \n",
      "A value is trying to be set on a copy of a slice from a DataFrame\n",
      "\n",
      "See the caveats in the documentation: https://pandas.pydata.org/pandas-docs/stable/user_guide/indexing.html#returning-a-view-versus-a-copy\n",
      "  if __name__ == '__main__':\n",
      "/opt/anaconda3/lib/python3.7/site-packages/ipykernel_launcher.py:10: SettingWithCopyWarning: \n",
      "A value is trying to be set on a copy of a slice from a DataFrame\n",
      "\n",
      "See the caveats in the documentation: https://pandas.pydata.org/pandas-docs/stable/user_guide/indexing.html#returning-a-view-versus-a-copy\n",
      "  # Remove the CWD from sys.path while we load stuff.\n"
     ]
    }
   ],
   "source": [
    "df['isFirstPayload'] = ''\n",
    "df['isLastPayLoad'] = ''\n",
    "num = len(df)\n",
    "for i in range(num):\n",
    "    if i == 0:\n",
    "        df['isFirstPayload'][i] = True\n",
    "        df['isLastPayLoad'][i] = False\n",
    "    elif df['sessionDuration'][i] == 120000:\n",
    "        df['isFirstPayload'][i] = True\n",
    "        df['isLastPayLoad'][i-1] = True\n",
    "    elif i == num:\n",
    "        df['isFirstPayload'][i] = False\n",
    "        df['isLastPayLoad'][i] = True\n",
    "    else:\n",
    "        df['isFirstPayload'][i] = False\n",
    "        df['isLastPayLoad'][i-1] = False"
   ]
  },
  {
   "cell_type": "code",
   "execution_count": 176,
   "metadata": {},
   "outputs": [
    {
     "data": {
      "text/plain": [
       "1900-01-01 07:57:00    1968\n",
       "1900-01-01 07:55:00    1941\n",
       "1900-01-01 07:56:00    1908\n",
       "1900-01-01 07:51:00    1893\n",
       "1900-01-01 07:53:00    1893\n",
       "                       ... \n",
       "1900-01-01 02:03:00     207\n",
       "1900-01-01 02:00:00     151\n",
       "1900-01-01 02:01:00     139\n",
       "1900-01-01 01:58:00      75\n",
       "1900-01-01 01:59:00      70\n",
       "Name: readableDate, Length: 360, dtype: int64"
      ]
     },
     "execution_count": 176,
     "metadata": {},
     "output_type": "execute_result"
    }
   ],
   "source": [
    "from datetime import datetime\n",
    "df['readableDate'] =  ''\n",
    "df['readableDate'] = df['timestamp'].apply(lambda x: datetime.fromtimestamp(x/1000))\n",
    "df['readableDate'] = (df['readableDate'] - timedelta(minutes = 2)).dt.strftime('%H:%M')\n",
    "df['readableDate'] = df['readableDate'].apply(lambda x: datetime.strptime(x, '%H:%M'))\n",
    "df['readableDate'].value_counts()"
   ]
  },
  {
   "cell_type": "code",
   "execution_count": 171,
   "metadata": {
    "collapsed": true
   },
   "outputs": [
    {
     "name": "stdout",
     "output_type": "stream",
     "text": [
      "\n",
      ": boolean\n",
      "    use_inf_as_null had been deprecated and will be removed in a future\n",
      "    version. Use `use_inf_as_na` instead.\n",
      "\n"
     ]
    },
    {
     "name": "stderr",
     "output_type": "stream",
     "text": [
      "/opt/anaconda3/lib/python3.7/site-packages/pandas/_config/config.py:620: FutureWarning: \n",
      ": boolean\n",
      "    use_inf_as_null had been deprecated and will be removed in a future\n",
      "    version. Use `use_inf_as_na` instead.\n",
      "\n",
      "  warnings.warn(d.msg, FutureWarning)\n"
     ]
    }
   ],
   "source": [
    "pd.reset_option(\"all\")\n",
    "df['DateTime'] = df['timestamp'].apply(lambda x: datetime.fromtimestamp(x/1000))\n",
    "df['DateTime'] = (df['DateTime'] - timedelta(minutes = 2)).dt.strftime('%d-%m-%Y %H:%M')\n",
    "df['DateTime'] = df['DateTime'].apply(lambda x: datetime.strptime(x, '%d-%m-%Y %H:%M'))\n",
    "df['DateTime'] = df['DateTime'].apply(lambda x: datetime.timestamp(x))\n",
    "# df['DateTime'] = (df['DateTime'] + timedelta(seconds=0)).dt.strftime('%d-%m-%Y %H:%M:%S')"
   ]
  },
  {
   "cell_type": "code",
   "execution_count": 169,
   "metadata": {
    "scrolled": true
   },
   "outputs": [
    {
     "data": {
      "text/plain": [
       "1562479020.0    1968\n",
       "1562478900.0    1941\n",
       "1562478960.0    1908\n",
       "1562478780.0    1893\n",
       "1562478660.0    1893\n",
       "                ... \n",
       "1562457780.0     207\n",
       "1562457600.0     151\n",
       "1562457660.0     139\n",
       "1562457480.0      75\n",
       "1562457540.0      70\n",
       "Name: DateTime, Length: 360, dtype: int64"
      ]
     },
     "execution_count": 169,
     "metadata": {},
     "output_type": "execute_result"
    }
   ],
   "source": [
    "# pd.options.display.float_format = '{:}'.format\n",
    "df['DateTime'].value_counts()"
   ]
  },
  {
   "cell_type": "code",
   "execution_count": 180,
   "metadata": {},
   "outputs": [],
   "source": [
    "df_stream_root = df[df['company'] == 'Streamroot TV']\n",
    "df_Flash_Infos = df[df['company'] == 'Flash Infos']\n",
    "df_Sports_News = df[df['company'] == 'Sports News']"
   ]
  },
  {
   "cell_type": "code",
   "execution_count": 304,
   "metadata": {},
   "outputs": [
    {
     "data": {
      "text/plain": [
       "Live    1727\n",
       "VOD      174\n",
       "Name: live, dtype: int64"
      ]
     },
     "execution_count": 304,
     "metadata": {},
     "output_type": "execute_result"
    }
   ],
   "source": [
    "df_Sports_News['live'].value_counts()"
   ]
  },
  {
   "cell_type": "code",
   "execution_count": 9,
   "metadata": {
    "scrolled": true
   },
   "outputs": [
    {
     "data": {
      "text/plain": [
       "ME1    383264\n",
       "ME2      1901\n",
       "Name: mediaEngine, dtype: int64"
      ]
     },
     "execution_count": 9,
     "metadata": {},
     "output_type": "execute_result"
    }
   ],
   "source": [
    "df['mediaEngine'].value_counts()"
   ]
  },
  {
   "cell_type": "code",
   "execution_count": 26,
   "metadata": {},
   "outputs": [],
   "source": [
    "df_StreamRoot_Last_Payload = df_StreamRoot[df_StreamRoot['isLastPayLoad'] == True]\n",
    "df_Flash_Infos_Last_Payload = df_Flash_Infos[df_Flash_Infos['isLastPayLoad'] == True]\n",
    "df_Sport_News_Last_Payload = df_Sports_News[df_Sports_News['isLastPayLoad'] == True]"
   ]
  },
  {
   "cell_type": "code",
   "execution_count": 302,
   "metadata": {},
   "outputs": [],
   "source": [
    "def performance_indicator(df):\n",
    "    contents = len(pd.unique(df['content']))\n",
    "    errors = df['playbackErrorCount'].sum()\n",
    "    disliked_content = len(df[(df['isLastPayLoad'] == True) & (df['isFirstPayload'] == True)])\n",
    "    df_new = df[df['isLastPayLoad'] == True]\n",
    "    total_duration = df_new['sessionDuration'].sum()\n",
    "    count = len(df_new)\n",
    "    view_time = total_duration/count\n",
    "    return (view_time, contents, errors, disliked_content)"
   ]
  },
  {
   "cell_type": "code",
   "execution_count": 303,
   "metadata": {},
   "outputs": [
    {
     "data": {
      "text/plain": [
       "(2222431.5773615227, 16898, 0, 1336)"
      ]
     },
     "execution_count": 303,
     "metadata": {},
     "output_type": "execute_result"
    }
   ],
   "source": [
    "performance_indicator(df_stream_root)"
   ]
  },
  {
   "cell_type": "code",
   "execution_count": 300,
   "metadata": {
    "scrolled": true
   },
   "outputs": [
    {
     "data": {
      "text/plain": [
       "(1840546.5838509316, 379, 1, 133)"
      ]
     },
     "execution_count": 300,
     "metadata": {},
     "output_type": "execute_result"
    }
   ],
   "source": [
    "performance_indicator(df_Flash_Infos_Last_Payload)"
   ]
  },
  {
   "cell_type": "code",
   "execution_count": 30,
   "metadata": {},
   "outputs": [
    {
     "data": {
      "text/plain": [
       "1980521.7391304348"
      ]
     },
     "execution_count": 30,
     "metadata": {},
     "output_type": "execute_result"
    }
   ],
   "source": [
    "performance_indicator(df_Sport_News_Last_Payload)"
   ]
  },
  {
   "cell_type": "code",
   "execution_count": 31,
   "metadata": {},
   "outputs": [
    {
     "data": {
      "text/plain": [
       "2222431.5773615227"
      ]
     },
     "execution_count": 31,
     "metadata": {},
     "output_type": "execute_result"
    }
   ],
   "source": [
    "performance_indicator(df_StreamRoot_Last_Payload)"
   ]
  },
  {
   "cell_type": "markdown",
   "metadata": {},
   "source": [
    "## Question 2 - Determine the first payload of the viewer"
   ]
  },
  {
   "cell_type": "code",
   "execution_count": 10,
   "metadata": {
    "scrolled": true
   },
   "outputs": [
    {
     "data": {
      "text/plain": [
       "False    364331\n",
       "True      20834\n",
       "Name: isFirstPayload, dtype: int64"
      ]
     },
     "execution_count": 10,
     "metadata": {},
     "output_type": "execute_result"
    }
   ],
   "source": [
    "df['isFirstPayload'].value_counts()"
   ]
  },
  {
   "cell_type": "code",
   "execution_count": 11,
   "metadata": {},
   "outputs": [
    {
     "data": {
      "text/plain": [
       "content-15468    2267\n",
       "content-05333    2091\n",
       "content-05335    1556\n",
       "content-05334    1346\n",
       "content-13697    1221\n",
       "                 ... \n",
       "content-02848       1\n",
       "content-06134       1\n",
       "content-12372       1\n",
       "content-10745       1\n",
       "content-03954       1\n",
       "Name: content, Length: 17298, dtype: int64"
      ]
     },
     "execution_count": 11,
     "metadata": {},
     "output_type": "execute_result"
    }
   ],
   "source": [
    "df['content'].value_counts()"
   ]
  },
  {
   "cell_type": "markdown",
   "metadata": {},
   "source": [
    "#### There are 20834 distinct users that are streaming. These users are more than number of unique contents. This indicates there are multiple users streaming the same content."
   ]
  },
  {
   "cell_type": "markdown",
   "metadata": {},
   "source": [
    "## Question 3 - Playback error"
   ]
  },
  {
   "cell_type": "code",
   "execution_count": 12,
   "metadata": {
    "scrolled": true
   },
   "outputs": [
    {
     "data": {
      "text/plain": [
       "0    384912\n",
       "1       244\n",
       "3         6\n",
       "2         3\n",
       "Name: totalPlaybackErrorCount, dtype: int64"
      ]
     },
     "execution_count": 12,
     "metadata": {},
     "output_type": "execute_result"
    }
   ],
   "source": [
    "df['totalPlaybackErrorCount'].value_counts()"
   ]
  },
  {
   "cell_type": "code",
   "execution_count": 13,
   "metadata": {},
   "outputs": [
    {
     "data": {
      "text/plain": [
       "0    385154\n",
       "1         8\n",
       "2         2\n",
       "3         1\n",
       "Name: playbackErrorCount, dtype: int64"
      ]
     },
     "execution_count": 13,
     "metadata": {},
     "output_type": "execute_result"
    }
   ],
   "source": [
    "df['playbackErrorCount'].value_counts()"
   ]
  },
  {
   "cell_type": "code",
   "execution_count": 9,
   "metadata": {
    "scrolled": false
   },
   "outputs": [
    {
     "data": {
      "text/html": [
       "<div>\n",
       "<style scoped>\n",
       "    .dataframe tbody tr th:only-of-type {\n",
       "        vertical-align: middle;\n",
       "    }\n",
       "\n",
       "    .dataframe tbody tr th {\n",
       "        vertical-align: top;\n",
       "    }\n",
       "\n",
       "    .dataframe thead th {\n",
       "        text-align: right;\n",
       "    }\n",
       "</style>\n",
       "<table border=\"1\" class=\"dataframe\">\n",
       "  <thead>\n",
       "    <tr style=\"text-align: right;\">\n",
       "      <th></th>\n",
       "      <th>company</th>\n",
       "      <th>live</th>\n",
       "      <th>mediaEngine</th>\n",
       "      <th>p2p</th>\n",
       "      <th>cdn</th>\n",
       "      <th>upload</th>\n",
       "      <th>peers_count</th>\n",
       "      <th>peers_match</th>\n",
       "      <th>timestamp</th>\n",
       "      <th>sessionDuration</th>\n",
       "      <th>playbackErrorCount</th>\n",
       "      <th>totalPlaybackErrorCount</th>\n",
       "      <th>content</th>\n",
       "    </tr>\n",
       "  </thead>\n",
       "  <tbody>\n",
       "    <tr>\n",
       "      <th>32693</th>\n",
       "      <td>Sports News</td>\n",
       "      <td>Live</td>\n",
       "      <td>ME2</td>\n",
       "      <td>0.0</td>\n",
       "      <td>2870766.0</td>\n",
       "      <td>0.0</td>\n",
       "      <td>4.23</td>\n",
       "      <td>13</td>\n",
       "      <td>1562459605104</td>\n",
       "      <td>120000.0</td>\n",
       "      <td>1</td>\n",
       "      <td>1</td>\n",
       "      <td>content-11564</td>\n",
       "    </tr>\n",
       "    <tr>\n",
       "      <th>95748</th>\n",
       "      <td>Sports News</td>\n",
       "      <td>Live</td>\n",
       "      <td>ME2</td>\n",
       "      <td>52618356.0</td>\n",
       "      <td>52614215.0</td>\n",
       "      <td>0.0</td>\n",
       "      <td>19.84</td>\n",
       "      <td>2</td>\n",
       "      <td>1562477902737</td>\n",
       "      <td>6960000.0</td>\n",
       "      <td>1</td>\n",
       "      <td>1</td>\n",
       "      <td>content-11572</td>\n",
       "    </tr>\n",
       "    <tr>\n",
       "      <th>95749</th>\n",
       "      <td>Sports News</td>\n",
       "      <td>Live</td>\n",
       "      <td>ME2</td>\n",
       "      <td>52641357.0</td>\n",
       "      <td>52568645.0</td>\n",
       "      <td>0.0</td>\n",
       "      <td>20.00</td>\n",
       "      <td>2</td>\n",
       "      <td>1562478022654</td>\n",
       "      <td>7080000.0</td>\n",
       "      <td>0</td>\n",
       "      <td>1</td>\n",
       "      <td>content-11572</td>\n",
       "    </tr>\n",
       "    <tr>\n",
       "      <th>95750</th>\n",
       "      <td>Sports News</td>\n",
       "      <td>Live</td>\n",
       "      <td>ME2</td>\n",
       "      <td>52606553.0</td>\n",
       "      <td>52585868.0</td>\n",
       "      <td>0.0</td>\n",
       "      <td>20.00</td>\n",
       "      <td>3</td>\n",
       "      <td>1562478142642</td>\n",
       "      <td>7200000.0</td>\n",
       "      <td>0</td>\n",
       "      <td>1</td>\n",
       "      <td>content-11572</td>\n",
       "    </tr>\n",
       "    <tr>\n",
       "      <th>95751</th>\n",
       "      <td>Sports News</td>\n",
       "      <td>Live</td>\n",
       "      <td>ME2</td>\n",
       "      <td>50772924.0</td>\n",
       "      <td>52680960.0</td>\n",
       "      <td>0.0</td>\n",
       "      <td>19.59</td>\n",
       "      <td>1</td>\n",
       "      <td>1562478262657</td>\n",
       "      <td>7320000.0</td>\n",
       "      <td>0</td>\n",
       "      <td>1</td>\n",
       "      <td>content-11572</td>\n",
       "    </tr>\n",
       "    <tr>\n",
       "      <th>...</th>\n",
       "      <td>...</td>\n",
       "      <td>...</td>\n",
       "      <td>...</td>\n",
       "      <td>...</td>\n",
       "      <td>...</td>\n",
       "      <td>...</td>\n",
       "      <td>...</td>\n",
       "      <td>...</td>\n",
       "      <td>...</td>\n",
       "      <td>...</td>\n",
       "      <td>...</td>\n",
       "      <td>...</td>\n",
       "      <td>...</td>\n",
       "    </tr>\n",
       "    <tr>\n",
       "      <th>306126</th>\n",
       "      <td>Sports News</td>\n",
       "      <td>Live</td>\n",
       "      <td>ME2</td>\n",
       "      <td>0.0</td>\n",
       "      <td>0.0</td>\n",
       "      <td>10438127.0</td>\n",
       "      <td>19.70</td>\n",
       "      <td>6</td>\n",
       "      <td>1562474346900</td>\n",
       "      <td>7320000.0</td>\n",
       "      <td>0</td>\n",
       "      <td>1</td>\n",
       "      <td>content-11572</td>\n",
       "    </tr>\n",
       "    <tr>\n",
       "      <th>306127</th>\n",
       "      <td>Sports News</td>\n",
       "      <td>Live</td>\n",
       "      <td>ME2</td>\n",
       "      <td>0.0</td>\n",
       "      <td>0.0</td>\n",
       "      <td>9984000.0</td>\n",
       "      <td>19.69</td>\n",
       "      <td>3</td>\n",
       "      <td>1562474466921</td>\n",
       "      <td>7440000.0</td>\n",
       "      <td>0</td>\n",
       "      <td>1</td>\n",
       "      <td>content-11572</td>\n",
       "    </tr>\n",
       "    <tr>\n",
       "      <th>306128</th>\n",
       "      <td>Sports News</td>\n",
       "      <td>Live</td>\n",
       "      <td>ME2</td>\n",
       "      <td>0.0</td>\n",
       "      <td>0.0</td>\n",
       "      <td>11707304.0</td>\n",
       "      <td>19.94</td>\n",
       "      <td>3</td>\n",
       "      <td>1562474586866</td>\n",
       "      <td>7560000.0</td>\n",
       "      <td>0</td>\n",
       "      <td>1</td>\n",
       "      <td>content-11572</td>\n",
       "    </tr>\n",
       "    <tr>\n",
       "      <th>306129</th>\n",
       "      <td>Sports News</td>\n",
       "      <td>Live</td>\n",
       "      <td>ME2</td>\n",
       "      <td>0.0</td>\n",
       "      <td>0.0</td>\n",
       "      <td>10645161.0</td>\n",
       "      <td>19.84</td>\n",
       "      <td>3</td>\n",
       "      <td>1562474706976</td>\n",
       "      <td>7680000.0</td>\n",
       "      <td>0</td>\n",
       "      <td>1</td>\n",
       "      <td>content-11572</td>\n",
       "    </tr>\n",
       "    <tr>\n",
       "      <th>344943</th>\n",
       "      <td>Flash Infos</td>\n",
       "      <td>Live</td>\n",
       "      <td>ME1</td>\n",
       "      <td>46490332.0</td>\n",
       "      <td>0.0</td>\n",
       "      <td>2657280.0</td>\n",
       "      <td>11.34</td>\n",
       "      <td>40</td>\n",
       "      <td>1562477293473</td>\n",
       "      <td>2040000.0</td>\n",
       "      <td>1</td>\n",
       "      <td>1</td>\n",
       "      <td>content-15468</td>\n",
       "    </tr>\n",
       "  </tbody>\n",
       "</table>\n",
       "<p>244 rows × 13 columns</p>\n",
       "</div>"
      ],
      "text/plain": [
       "            company  live mediaEngine         p2p         cdn      upload  \\\n",
       "32693   Sports News  Live         ME2         0.0   2870766.0         0.0   \n",
       "95748   Sports News  Live         ME2  52618356.0  52614215.0         0.0   \n",
       "95749   Sports News  Live         ME2  52641357.0  52568645.0         0.0   \n",
       "95750   Sports News  Live         ME2  52606553.0  52585868.0         0.0   \n",
       "95751   Sports News  Live         ME2  50772924.0  52680960.0         0.0   \n",
       "...             ...   ...         ...         ...         ...         ...   \n",
       "306126  Sports News  Live         ME2         0.0         0.0  10438127.0   \n",
       "306127  Sports News  Live         ME2         0.0         0.0   9984000.0   \n",
       "306128  Sports News  Live         ME2         0.0         0.0  11707304.0   \n",
       "306129  Sports News  Live         ME2         0.0         0.0  10645161.0   \n",
       "344943  Flash Infos  Live         ME1  46490332.0         0.0   2657280.0   \n",
       "\n",
       "        peers_count  peers_match      timestamp  sessionDuration  \\\n",
       "32693          4.23           13  1562459605104         120000.0   \n",
       "95748         19.84            2  1562477902737        6960000.0   \n",
       "95749         20.00            2  1562478022654        7080000.0   \n",
       "95750         20.00            3  1562478142642        7200000.0   \n",
       "95751         19.59            1  1562478262657        7320000.0   \n",
       "...             ...          ...            ...              ...   \n",
       "306126        19.70            6  1562474346900        7320000.0   \n",
       "306127        19.69            3  1562474466921        7440000.0   \n",
       "306128        19.94            3  1562474586866        7560000.0   \n",
       "306129        19.84            3  1562474706976        7680000.0   \n",
       "344943        11.34           40  1562477293473        2040000.0   \n",
       "\n",
       "        playbackErrorCount  totalPlaybackErrorCount        content  \n",
       "32693                    1                        1  content-11564  \n",
       "95748                    1                        1  content-11572  \n",
       "95749                    0                        1  content-11572  \n",
       "95750                    0                        1  content-11572  \n",
       "95751                    0                        1  content-11572  \n",
       "...                    ...                      ...            ...  \n",
       "306126                   0                        1  content-11572  \n",
       "306127                   0                        1  content-11572  \n",
       "306128                   0                        1  content-11572  \n",
       "306129                   0                        1  content-11572  \n",
       "344943                   1                        1  content-15468  \n",
       "\n",
       "[244 rows x 13 columns]"
      ]
     },
     "execution_count": 9,
     "metadata": {},
     "output_type": "execute_result"
    }
   ],
   "source": [
    "df[df['totalPlaybackErrorCount'] == 1]"
   ]
  },
  {
   "cell_type": "code",
   "execution_count": 14,
   "metadata": {},
   "outputs": [
    {
     "data": {
      "text/html": [
       "<div>\n",
       "<style scoped>\n",
       "    .dataframe tbody tr th:only-of-type {\n",
       "        vertical-align: middle;\n",
       "    }\n",
       "\n",
       "    .dataframe tbody tr th {\n",
       "        vertical-align: top;\n",
       "    }\n",
       "\n",
       "    .dataframe thead th {\n",
       "        text-align: right;\n",
       "    }\n",
       "</style>\n",
       "<table border=\"1\" class=\"dataframe\">\n",
       "  <thead>\n",
       "    <tr style=\"text-align: right;\">\n",
       "      <th></th>\n",
       "      <th>Time</th>\n",
       "      <th>playbackErrorCount</th>\n",
       "      <th>totalPlaybackErrorCount</th>\n",
       "    </tr>\n",
       "  </thead>\n",
       "  <tbody>\n",
       "    <tr>\n",
       "      <th>0</th>\n",
       "      <td>00:00</td>\n",
       "      <td>0</td>\n",
       "      <td>0</td>\n",
       "    </tr>\n",
       "    <tr>\n",
       "      <th>1</th>\n",
       "      <td>02:00</td>\n",
       "      <td>0</td>\n",
       "      <td>0</td>\n",
       "    </tr>\n",
       "    <tr>\n",
       "      <th>2</th>\n",
       "      <td>04:00</td>\n",
       "      <td>1</td>\n",
       "      <td>1</td>\n",
       "    </tr>\n",
       "    <tr>\n",
       "      <th>3</th>\n",
       "      <td>06:00</td>\n",
       "      <td>0</td>\n",
       "      <td>1</td>\n",
       "    </tr>\n",
       "    <tr>\n",
       "      <th>4</th>\n",
       "      <td>08:00</td>\n",
       "      <td>1</td>\n",
       "      <td>2</td>\n",
       "    </tr>\n",
       "  </tbody>\n",
       "</table>\n",
       "</div>"
      ],
      "text/plain": [
       "    Time playbackErrorCount totalPlaybackErrorCount\n",
       "0  00:00                  0                       0\n",
       "1  02:00                  0                       0\n",
       "2  04:00                  1                       1\n",
       "3  06:00                  0                       1\n",
       "4  08:00                  1                       2"
      ]
     },
     "execution_count": 14,
     "metadata": {},
     "output_type": "execute_result"
    }
   ],
   "source": [
    "df4 = pd.DataFrame(np.array([['00:00', 0, 0], ['02:00', 0, 0], ['04:00', 1, 1], ['06:00', 0, 1], ['08:00', 1, 2]]),\n",
    "                   columns=['Time', 'playbackErrorCount', 'totalPlaybackErrorCount'])\n",
    "df4"
   ]
  },
  {
   "cell_type": "markdown",
   "metadata": {},
   "source": [
    "### Question - 4"
   ]
  },
  {
   "cell_type": "code",
   "execution_count": 94,
   "metadata": {
    "scrolled": true
   },
   "outputs": [
    {
     "data": {
      "text/html": [
       "<div>\n",
       "<style scoped>\n",
       "    .dataframe tbody tr th:only-of-type {\n",
       "        vertical-align: middle;\n",
       "    }\n",
       "\n",
       "    .dataframe tbody tr th {\n",
       "        vertical-align: top;\n",
       "    }\n",
       "\n",
       "    .dataframe thead th {\n",
       "        text-align: right;\n",
       "    }\n",
       "</style>\n",
       "<table border=\"1\" class=\"dataframe\">\n",
       "  <thead>\n",
       "    <tr style=\"text-align: right;\">\n",
       "      <th></th>\n",
       "      <th>company</th>\n",
       "      <th>live</th>\n",
       "      <th>mediaEngine</th>\n",
       "      <th>p2p</th>\n",
       "      <th>cdn</th>\n",
       "      <th>upload</th>\n",
       "      <th>peers_count</th>\n",
       "      <th>peers_match</th>\n",
       "      <th>timestamp</th>\n",
       "      <th>sessionDuration</th>\n",
       "      <th>playbackErrorCount</th>\n",
       "      <th>totalPlaybackErrorCount</th>\n",
       "      <th>content</th>\n",
       "      <th>isFirstPayload</th>\n",
       "      <th>isLastPayLoad</th>\n",
       "      <th>readableDate</th>\n",
       "    </tr>\n",
       "  </thead>\n",
       "  <tbody>\n",
       "    <tr>\n",
       "      <th>130496</th>\n",
       "      <td>Streamroot TV</td>\n",
       "      <td>VOD</td>\n",
       "      <td>ME1</td>\n",
       "      <td>0.0</td>\n",
       "      <td>4790992.0</td>\n",
       "      <td>0.0</td>\n",
       "      <td>0.0</td>\n",
       "      <td>0</td>\n",
       "      <td>1562471918634</td>\n",
       "      <td>840000.0</td>\n",
       "      <td>0</td>\n",
       "      <td>0</td>\n",
       "      <td>content-04168</td>\n",
       "      <td>False</td>\n",
       "      <td>False</td>\n",
       "      <td>2019-07-07 05:58:38.634</td>\n",
       "    </tr>\n",
       "    <tr>\n",
       "      <th>153800</th>\n",
       "      <td>Streamroot TV</td>\n",
       "      <td>VOD</td>\n",
       "      <td>ME1</td>\n",
       "      <td>0.0</td>\n",
       "      <td>0.0</td>\n",
       "      <td>756400.0</td>\n",
       "      <td>20.0</td>\n",
       "      <td>0</td>\n",
       "      <td>1562471918634</td>\n",
       "      <td>1440000.0</td>\n",
       "      <td>0</td>\n",
       "      <td>0</td>\n",
       "      <td>content-02773</td>\n",
       "      <td>False</td>\n",
       "      <td>False</td>\n",
       "      <td>2019-07-07 05:58:38.634</td>\n",
       "    </tr>\n",
       "    <tr>\n",
       "      <th>153801</th>\n",
       "      <td>Streamroot TV</td>\n",
       "      <td>VOD</td>\n",
       "      <td>ME1</td>\n",
       "      <td>0.0</td>\n",
       "      <td>0.0</td>\n",
       "      <td>756400.0</td>\n",
       "      <td>20.0</td>\n",
       "      <td>0</td>\n",
       "      <td>1562471918634</td>\n",
       "      <td>1440000.0</td>\n",
       "      <td>0</td>\n",
       "      <td>0</td>\n",
       "      <td>content-02773</td>\n",
       "      <td>False</td>\n",
       "      <td>False</td>\n",
       "      <td>2019-07-07 05:58:38.634</td>\n",
       "    </tr>\n",
       "    <tr>\n",
       "      <th>153802</th>\n",
       "      <td>Streamroot TV</td>\n",
       "      <td>VOD</td>\n",
       "      <td>ME1</td>\n",
       "      <td>0.0</td>\n",
       "      <td>0.0</td>\n",
       "      <td>756400.0</td>\n",
       "      <td>20.0</td>\n",
       "      <td>0</td>\n",
       "      <td>1562471918634</td>\n",
       "      <td>1440000.0</td>\n",
       "      <td>0</td>\n",
       "      <td>0</td>\n",
       "      <td>content-02773</td>\n",
       "      <td>False</td>\n",
       "      <td>False</td>\n",
       "      <td>2019-07-07 05:58:38.634</td>\n",
       "    </tr>\n",
       "    <tr>\n",
       "      <th>153803</th>\n",
       "      <td>Streamroot TV</td>\n",
       "      <td>VOD</td>\n",
       "      <td>ME1</td>\n",
       "      <td>0.0</td>\n",
       "      <td>0.0</td>\n",
       "      <td>756400.0</td>\n",
       "      <td>20.0</td>\n",
       "      <td>0</td>\n",
       "      <td>1562471918634</td>\n",
       "      <td>1440000.0</td>\n",
       "      <td>0</td>\n",
       "      <td>0</td>\n",
       "      <td>content-02773</td>\n",
       "      <td>False</td>\n",
       "      <td>False</td>\n",
       "      <td>2019-07-07 05:58:38.634</td>\n",
       "    </tr>\n",
       "  </tbody>\n",
       "</table>\n",
       "</div>"
      ],
      "text/plain": [
       "              company live mediaEngine  p2p        cdn    upload  peers_count  \\\n",
       "130496  Streamroot TV  VOD         ME1  0.0  4790992.0       0.0          0.0   \n",
       "153800  Streamroot TV  VOD         ME1  0.0        0.0  756400.0         20.0   \n",
       "153801  Streamroot TV  VOD         ME1  0.0        0.0  756400.0         20.0   \n",
       "153802  Streamroot TV  VOD         ME1  0.0        0.0  756400.0         20.0   \n",
       "153803  Streamroot TV  VOD         ME1  0.0        0.0  756400.0         20.0   \n",
       "\n",
       "        peers_match      timestamp  sessionDuration  playbackErrorCount  \\\n",
       "130496            0  1562471918634         840000.0                   0   \n",
       "153800            0  1562471918634        1440000.0                   0   \n",
       "153801            0  1562471918634        1440000.0                   0   \n",
       "153802            0  1562471918634        1440000.0                   0   \n",
       "153803            0  1562471918634        1440000.0                   0   \n",
       "\n",
       "        totalPlaybackErrorCount        content isFirstPayload isLastPayLoad  \\\n",
       "130496                        0  content-04168          False         False   \n",
       "153800                        0  content-02773          False         False   \n",
       "153801                        0  content-02773          False         False   \n",
       "153802                        0  content-02773          False         False   \n",
       "153803                        0  content-02773          False         False   \n",
       "\n",
       "                  readableDate  \n",
       "130496 2019-07-07 05:58:38.634  \n",
       "153800 2019-07-07 05:58:38.634  \n",
       "153801 2019-07-07 05:58:38.634  \n",
       "153802 2019-07-07 05:58:38.634  \n",
       "153803 2019-07-07 05:58:38.634  "
      ]
     },
     "execution_count": 94,
     "metadata": {},
     "output_type": "execute_result"
    }
   ],
   "source": [
    "df[df['readableDate']=='2019-07-07 05:58:38.634']"
   ]
  },
  {
   "cell_type": "code",
   "execution_count": 155,
   "metadata": {},
   "outputs": [
    {
     "name": "stdout",
     "output_type": "stream",
     "text": [
      "1562469900.0\n",
      "1562469807407\n"
     ]
    },
    {
     "data": {
      "text/plain": [
       "False"
      ]
     },
     "execution_count": 155,
     "metadata": {},
     "output_type": "execute_result"
    }
   ],
   "source": [
    "print(df['DateTime'][2])\n",
    "print(df['timestamp'][0])\n",
    "df['DateTime'][2] > df['timestamp'][0]"
   ]
  },
  {
   "cell_type": "code",
   "execution_count": 17,
   "metadata": {
    "scrolled": true
   },
   "outputs": [
    {
     "data": {
      "text/plain": [
       "60"
      ]
     },
     "execution_count": 17,
     "metadata": {},
     "output_type": "execute_result"
    }
   ],
   "source": [
    "len(df_stream_root[(df_stream_root['content'] == 'content-05335') & (df_stream_root['sessionDuration'] == 120000)])"
   ]
  },
  {
   "cell_type": "code",
   "execution_count": 181,
   "metadata": {},
   "outputs": [
    {
     "data": {
      "text/plain": [
       "120000.0      60\n",
       "240000.0      53\n",
       "360000.0      50\n",
       "480000.0      46\n",
       "720000.0      45\n",
       "              ..\n",
       "14880000.0     1\n",
       "15240000.0     1\n",
       "15720000.0     1\n",
       "15840000.0     1\n",
       "15000000.0     1\n",
       "Name: sessionDuration, Length: 135, dtype: int64"
      ]
     },
     "execution_count": 181,
     "metadata": {},
     "output_type": "execute_result"
    }
   ],
   "source": [
    "df_exm = df_stream_root[df_stream_root['content'] == 'content-05335']\n",
    "df_exm['sessionDuration'].value_counts()"
   ]
  },
  {
   "cell_type": "code",
   "execution_count": 242,
   "metadata": {},
   "outputs": [
    {
     "data": {
      "text/plain": [
       "Timedelta('0 days 00:02:00')"
      ]
     },
     "execution_count": 242,
     "metadata": {},
     "output_type": "execute_result"
    }
   ],
   "source": [
    "(date_stamps[1]-date_stamps[0])"
   ]
  },
  {
   "cell_type": "code",
   "execution_count": 212,
   "metadata": {},
   "outputs": [],
   "source": [
    "date_stamps = set()\n",
    "for i in df_exm.index:\n",
    "    date_stamps.add(df_exm['readableDate'][i])\n",
    "date_stamps = sorted(date_stamps)"
   ]
  },
  {
   "cell_type": "code",
   "execution_count": 268,
   "metadata": {},
   "outputs": [
    {
     "data": {
      "text/plain": [
       "Timestamp('1900-01-01 07:57:00')"
      ]
     },
     "execution_count": 268,
     "metadata": {},
     "output_type": "execute_result"
    }
   ],
   "source": [
    "date_stamps[-1]"
   ]
  },
  {
   "cell_type": "code",
   "execution_count": 271,
   "metadata": {},
   "outputs": [
    {
     "data": {
      "text/plain": [
       "[Timestamp('1900-01-01 02:00:00'),\n",
       " Timestamp('1900-01-01 02:02:00'),\n",
       " Timestamp('1900-01-01 02:04:00'),\n",
       " Timestamp('1900-01-01 02:06:00'),\n",
       " Timestamp('1900-01-01 02:08:00'),\n",
       " Timestamp('1900-01-01 02:10:00'),\n",
       " Timestamp('1900-01-01 02:12:00'),\n",
       " Timestamp('1900-01-01 02:14:00'),\n",
       " Timestamp('1900-01-01 02:16:00'),\n",
       " Timestamp('1900-01-01 02:18:00'),\n",
       " Timestamp('1900-01-01 02:20:00'),\n",
       " Timestamp('1900-01-01 02:22:00'),\n",
       " Timestamp('1900-01-01 02:24:00'),\n",
       " Timestamp('1900-01-01 02:26:00'),\n",
       " Timestamp('1900-01-01 02:28:00'),\n",
       " Timestamp('1900-01-01 02:30:00'),\n",
       " Timestamp('1900-01-01 02:32:00'),\n",
       " Timestamp('1900-01-01 02:34:00'),\n",
       " Timestamp('1900-01-01 02:36:00'),\n",
       " Timestamp('1900-01-01 02:38:00'),\n",
       " Timestamp('1900-01-01 02:40:00'),\n",
       " Timestamp('1900-01-01 02:42:00'),\n",
       " Timestamp('1900-01-01 02:44:00'),\n",
       " Timestamp('1900-01-01 02:46:00'),\n",
       " Timestamp('1900-01-01 02:48:00'),\n",
       " Timestamp('1900-01-01 02:50:00'),\n",
       " Timestamp('1900-01-01 02:52:00'),\n",
       " Timestamp('1900-01-01 02:54:00'),\n",
       " Timestamp('1900-01-01 02:56:00'),\n",
       " Timestamp('1900-01-01 02:58:00'),\n",
       " Timestamp('1900-01-01 03:00:00'),\n",
       " Timestamp('1900-01-01 03:02:00'),\n",
       " Timestamp('1900-01-01 03:04:00'),\n",
       " Timestamp('1900-01-01 03:06:00'),\n",
       " Timestamp('1900-01-01 03:08:00'),\n",
       " Timestamp('1900-01-01 03:10:00'),\n",
       " Timestamp('1900-01-01 03:12:00'),\n",
       " Timestamp('1900-01-01 03:14:00'),\n",
       " Timestamp('1900-01-01 03:16:00'),\n",
       " Timestamp('1900-01-01 03:18:00'),\n",
       " Timestamp('1900-01-01 03:20:00'),\n",
       " Timestamp('1900-01-01 03:22:00'),\n",
       " Timestamp('1900-01-01 03:24:00'),\n",
       " Timestamp('1900-01-01 03:26:00'),\n",
       " Timestamp('1900-01-01 03:28:00'),\n",
       " Timestamp('1900-01-01 03:30:00'),\n",
       " Timestamp('1900-01-01 03:32:00'),\n",
       " Timestamp('1900-01-01 03:34:00'),\n",
       " Timestamp('1900-01-01 03:36:00'),\n",
       " Timestamp('1900-01-01 03:38:00'),\n",
       " Timestamp('1900-01-01 03:40:00'),\n",
       " Timestamp('1900-01-01 03:42:00'),\n",
       " Timestamp('1900-01-01 03:44:00'),\n",
       " Timestamp('1900-01-01 03:46:00'),\n",
       " Timestamp('1900-01-01 03:48:00'),\n",
       " Timestamp('1900-01-01 03:50:00'),\n",
       " Timestamp('1900-01-01 03:52:00'),\n",
       " Timestamp('1900-01-01 03:54:00'),\n",
       " Timestamp('1900-01-01 03:56:00'),\n",
       " Timestamp('1900-01-01 03:58:00'),\n",
       " Timestamp('1900-01-01 04:00:00'),\n",
       " Timestamp('1900-01-01 04:02:00'),\n",
       " Timestamp('1900-01-01 04:04:00'),\n",
       " Timestamp('1900-01-01 04:06:00'),\n",
       " Timestamp('1900-01-01 04:08:00'),\n",
       " Timestamp('1900-01-01 04:10:00'),\n",
       " Timestamp('1900-01-01 04:12:00'),\n",
       " Timestamp('1900-01-01 04:14:00'),\n",
       " Timestamp('1900-01-01 04:16:00'),\n",
       " Timestamp('1900-01-01 04:18:00'),\n",
       " Timestamp('1900-01-01 04:20:00'),\n",
       " Timestamp('1900-01-01 04:22:00'),\n",
       " Timestamp('1900-01-01 04:24:00'),\n",
       " Timestamp('1900-01-01 04:26:00'),\n",
       " Timestamp('1900-01-01 04:28:00'),\n",
       " Timestamp('1900-01-01 04:30:00'),\n",
       " Timestamp('1900-01-01 04:32:00'),\n",
       " Timestamp('1900-01-01 04:34:00'),\n",
       " Timestamp('1900-01-01 04:36:00'),\n",
       " Timestamp('1900-01-01 04:38:00'),\n",
       " Timestamp('1900-01-01 04:40:00'),\n",
       " Timestamp('1900-01-01 04:42:00'),\n",
       " Timestamp('1900-01-01 04:44:00'),\n",
       " Timestamp('1900-01-01 04:46:00'),\n",
       " Timestamp('1900-01-01 04:48:00'),\n",
       " Timestamp('1900-01-01 04:50:00'),\n",
       " Timestamp('1900-01-01 04:52:00'),\n",
       " Timestamp('1900-01-01 04:54:00'),\n",
       " Timestamp('1900-01-01 04:56:00'),\n",
       " Timestamp('1900-01-01 04:58:00'),\n",
       " Timestamp('1900-01-01 05:00:00'),\n",
       " Timestamp('1900-01-01 05:02:00'),\n",
       " Timestamp('1900-01-01 05:04:00'),\n",
       " Timestamp('1900-01-01 05:06:00'),\n",
       " Timestamp('1900-01-01 05:08:00'),\n",
       " Timestamp('1900-01-01 05:10:00'),\n",
       " Timestamp('1900-01-01 05:12:00'),\n",
       " Timestamp('1900-01-01 05:14:00'),\n",
       " Timestamp('1900-01-01 05:16:00'),\n",
       " Timestamp('1900-01-01 05:18:00'),\n",
       " Timestamp('1900-01-01 05:20:00'),\n",
       " Timestamp('1900-01-01 05:22:00'),\n",
       " Timestamp('1900-01-01 05:24:00'),\n",
       " Timestamp('1900-01-01 05:26:00'),\n",
       " Timestamp('1900-01-01 05:28:00'),\n",
       " Timestamp('1900-01-01 05:30:00'),\n",
       " Timestamp('1900-01-01 05:32:00'),\n",
       " Timestamp('1900-01-01 05:34:00'),\n",
       " Timestamp('1900-01-01 05:36:00'),\n",
       " Timestamp('1900-01-01 05:38:00'),\n",
       " Timestamp('1900-01-01 05:40:00'),\n",
       " Timestamp('1900-01-01 05:42:00'),\n",
       " Timestamp('1900-01-01 05:44:00'),\n",
       " Timestamp('1900-01-01 05:46:00'),\n",
       " Timestamp('1900-01-01 05:48:00'),\n",
       " Timestamp('1900-01-01 05:50:00'),\n",
       " Timestamp('1900-01-01 05:52:00'),\n",
       " Timestamp('1900-01-01 05:54:00'),\n",
       " Timestamp('1900-01-01 05:56:00'),\n",
       " Timestamp('1900-01-01 05:58:00'),\n",
       " Timestamp('1900-01-01 06:00:00'),\n",
       " Timestamp('1900-01-01 06:02:00'),\n",
       " Timestamp('1900-01-01 06:04:00'),\n",
       " Timestamp('1900-01-01 06:06:00'),\n",
       " Timestamp('1900-01-01 06:08:00'),\n",
       " Timestamp('1900-01-01 06:10:00'),\n",
       " Timestamp('1900-01-01 06:12:00'),\n",
       " Timestamp('1900-01-01 06:14:00'),\n",
       " Timestamp('1900-01-01 06:16:00'),\n",
       " Timestamp('1900-01-01 06:18:00'),\n",
       " Timestamp('1900-01-01 06:20:00'),\n",
       " Timestamp('1900-01-01 06:22:00'),\n",
       " Timestamp('1900-01-01 06:24:00'),\n",
       " Timestamp('1900-01-01 06:26:00'),\n",
       " Timestamp('1900-01-01 06:28:00'),\n",
       " Timestamp('1900-01-01 06:30:00'),\n",
       " Timestamp('1900-01-01 06:32:00'),\n",
       " Timestamp('1900-01-01 06:34:00'),\n",
       " Timestamp('1900-01-01 06:36:00'),\n",
       " Timestamp('1900-01-01 06:38:00'),\n",
       " Timestamp('1900-01-01 06:40:00'),\n",
       " Timestamp('1900-01-01 06:42:00'),\n",
       " Timestamp('1900-01-01 06:44:00'),\n",
       " Timestamp('1900-01-01 06:46:00'),\n",
       " Timestamp('1900-01-01 06:48:00'),\n",
       " Timestamp('1900-01-01 06:50:00'),\n",
       " Timestamp('1900-01-01 06:52:00'),\n",
       " Timestamp('1900-01-01 06:54:00'),\n",
       " Timestamp('1900-01-01 06:56:00'),\n",
       " Timestamp('1900-01-01 06:58:00'),\n",
       " Timestamp('1900-01-01 07:00:00'),\n",
       " Timestamp('1900-01-01 07:02:00'),\n",
       " Timestamp('1900-01-01 07:04:00'),\n",
       " Timestamp('1900-01-01 07:06:00'),\n",
       " Timestamp('1900-01-01 07:08:00'),\n",
       " Timestamp('1900-01-01 07:10:00'),\n",
       " Timestamp('1900-01-01 07:12:00'),\n",
       " Timestamp('1900-01-01 07:14:00'),\n",
       " Timestamp('1900-01-01 07:16:00'),\n",
       " Timestamp('1900-01-01 07:18:00'),\n",
       " Timestamp('1900-01-01 07:20:00'),\n",
       " Timestamp('1900-01-01 07:22:00'),\n",
       " Timestamp('1900-01-01 07:24:00'),\n",
       " Timestamp('1900-01-01 07:26:00'),\n",
       " Timestamp('1900-01-01 07:28:00'),\n",
       " Timestamp('1900-01-01 07:30:00'),\n",
       " Timestamp('1900-01-01 07:32:00'),\n",
       " Timestamp('1900-01-01 07:34:00'),\n",
       " Timestamp('1900-01-01 07:36:00'),\n",
       " Timestamp('1900-01-01 07:38:00'),\n",
       " Timestamp('1900-01-01 07:40:00'),\n",
       " Timestamp('1900-01-01 07:42:00'),\n",
       " Timestamp('1900-01-01 07:44:00'),\n",
       " Timestamp('1900-01-01 07:46:00'),\n",
       " Timestamp('1900-01-01 07:48:00'),\n",
       " Timestamp('1900-01-01 07:50:00'),\n",
       " Timestamp('1900-01-01 07:52:00'),\n",
       " Timestamp('1900-01-01 07:54:00'),\n",
       " Timestamp('1900-01-01 07:56:00'),\n",
       " Timestamp('1900-01-01 07:58:00')]"
      ]
     },
     "execution_count": 271,
     "metadata": {},
     "output_type": "execute_result"
    }
   ],
   "source": [
    "lt = []\n",
    "k = date_stamps[0]\n",
    "for i in range(len(date_stamps)):\n",
    "    if i == 0:\n",
    "        k = date_stamps[i]\n",
    "        lt.append(k)\n",
    "    elif lt[i-1] == date_stamps[-2]:\n",
    "        k2 = lt[i-1] + Timedelta('0 days 00:02:00')\n",
    "        lt.append(k2)\n",
    "        break\n",
    "    else:\n",
    "        k1 = lt[i-1]\n",
    "        k1 += Timedelta('0 days 00:02:00')\n",
    "        lt.append(k1)\n",
    "lt"
   ]
  },
  {
   "cell_type": "code",
   "execution_count": 279,
   "metadata": {},
   "outputs": [
    {
     "data": {
      "text/html": [
       "<div>\n",
       "<style scoped>\n",
       "    .dataframe tbody tr th:only-of-type {\n",
       "        vertical-align: middle;\n",
       "    }\n",
       "\n",
       "    .dataframe tbody tr th {\n",
       "        vertical-align: top;\n",
       "    }\n",
       "\n",
       "    .dataframe thead th {\n",
       "        text-align: right;\n",
       "    }\n",
       "</style>\n",
       "<table border=\"1\" class=\"dataframe\">\n",
       "  <thead>\n",
       "    <tr style=\"text-align: right;\">\n",
       "      <th></th>\n",
       "      <th>company</th>\n",
       "      <th>live</th>\n",
       "      <th>mediaEngine</th>\n",
       "      <th>p2p</th>\n",
       "      <th>cdn</th>\n",
       "      <th>upload</th>\n",
       "      <th>peers_count</th>\n",
       "      <th>peers_match</th>\n",
       "      <th>timestamp</th>\n",
       "      <th>sessionDuration</th>\n",
       "      <th>playbackErrorCount</th>\n",
       "      <th>totalPlaybackErrorCount</th>\n",
       "      <th>content</th>\n",
       "      <th>isFirstPayload</th>\n",
       "      <th>isLastPayLoad</th>\n",
       "      <th>readableDate</th>\n",
       "      <th>DateTime</th>\n",
       "    </tr>\n",
       "  </thead>\n",
       "  <tbody>\n",
       "    <tr>\n",
       "      <th>167797</th>\n",
       "      <td>Streamroot TV</td>\n",
       "      <td>VOD</td>\n",
       "      <td>ME1</td>\n",
       "      <td>44236588.0</td>\n",
       "      <td>519632.0</td>\n",
       "      <td>0.0</td>\n",
       "      <td>16.96</td>\n",
       "      <td>40</td>\n",
       "      <td>1562457767702</td>\n",
       "      <td>120000.0</td>\n",
       "      <td>0</td>\n",
       "      <td>0</td>\n",
       "      <td>content-05335</td>\n",
       "      <td>True</td>\n",
       "      <td>False</td>\n",
       "      <td>1900-01-01 02:00:00</td>\n",
       "      <td>1.562458e+09</td>\n",
       "    </tr>\n",
       "  </tbody>\n",
       "</table>\n",
       "</div>"
      ],
      "text/plain": [
       "              company live mediaEngine         p2p       cdn  upload  \\\n",
       "167797  Streamroot TV  VOD         ME1  44236588.0  519632.0     0.0   \n",
       "\n",
       "        peers_count  peers_match      timestamp  sessionDuration  \\\n",
       "167797        16.96           40  1562457767702         120000.0   \n",
       "\n",
       "        playbackErrorCount  totalPlaybackErrorCount        content  \\\n",
       "167797                   0                        0  content-05335   \n",
       "\n",
       "       isFirstPayload isLastPayLoad        readableDate      DateTime  \n",
       "167797           True         False 1900-01-01 02:00:00  1.562458e+09  "
      ]
     },
     "execution_count": 279,
     "metadata": {},
     "output_type": "execute_result"
    }
   ],
   "source": [
    "df_exm[(df_exm['readableDate'] >= lt[0]) & (df_exm['readableDate'] < lt[1])]"
   ]
  },
  {
   "cell_type": "code",
   "execution_count": 280,
   "metadata": {
    "scrolled": true
   },
   "outputs": [],
   "source": [
    "k = {}\n",
    "df_avg_conc = pd.DataFrame()\n",
    "for i in range(len(lt)-1):\n",
    "    ds_1 = lt[i]\n",
    "    ds_2 = lt[i+1]\n",
    "    df_exm_date = df_exm[(df_exm['readableDate'] >= ds_1) & (df_exm['readableDate'] < ds_2)]\n",
    "    val = len(df_exm_date)\n",
    "    k[ds_1] = val\n",
    "#     if val < 10:\n",
    "#         df_avg_conc = df_avg_conc.append(df_exm_date)"
   ]
  },
  {
   "cell_type": "code",
   "execution_count": 281,
   "metadata": {},
   "outputs": [
    {
     "data": {
      "text/plain": [
       "{Timestamp('1900-01-01 02:00:00'): 1,\n",
       " Timestamp('1900-01-01 02:02:00'): 1,\n",
       " Timestamp('1900-01-01 02:04:00'): 2,\n",
       " Timestamp('1900-01-01 02:06:00'): 2,\n",
       " Timestamp('1900-01-01 02:08:00'): 2,\n",
       " Timestamp('1900-01-01 02:10:00'): 1,\n",
       " Timestamp('1900-01-01 02:12:00'): 2,\n",
       " Timestamp('1900-01-01 02:14:00'): 3,\n",
       " Timestamp('1900-01-01 02:16:00'): 2,\n",
       " Timestamp('1900-01-01 02:18:00'): 3,\n",
       " Timestamp('1900-01-01 02:20:00'): 3,\n",
       " Timestamp('1900-01-01 02:22:00'): 3,\n",
       " Timestamp('1900-01-01 02:24:00'): 3,\n",
       " Timestamp('1900-01-01 02:26:00'): 7,\n",
       " Timestamp('1900-01-01 02:28:00'): 4,\n",
       " Timestamp('1900-01-01 02:30:00'): 5,\n",
       " Timestamp('1900-01-01 02:32:00'): 5,\n",
       " Timestamp('1900-01-01 02:34:00'): 7,\n",
       " Timestamp('1900-01-01 02:36:00'): 5,\n",
       " Timestamp('1900-01-01 02:38:00'): 4,\n",
       " Timestamp('1900-01-01 02:40:00'): 4,\n",
       " Timestamp('1900-01-01 02:42:00'): 4,\n",
       " Timestamp('1900-01-01 02:44:00'): 5,\n",
       " Timestamp('1900-01-01 02:46:00'): 5,\n",
       " Timestamp('1900-01-01 02:48:00'): 4,\n",
       " Timestamp('1900-01-01 02:50:00'): 3,\n",
       " Timestamp('1900-01-01 02:52:00'): 3,\n",
       " Timestamp('1900-01-01 02:54:00'): 3,\n",
       " Timestamp('1900-01-01 02:56:00'): 3,\n",
       " Timestamp('1900-01-01 02:58:00'): 3,\n",
       " Timestamp('1900-01-01 03:00:00'): 3,\n",
       " Timestamp('1900-01-01 03:02:00'): 3,\n",
       " Timestamp('1900-01-01 03:04:00'): 3,\n",
       " Timestamp('1900-01-01 03:06:00'): 3,\n",
       " Timestamp('1900-01-01 03:08:00'): 3,\n",
       " Timestamp('1900-01-01 03:10:00'): 1,\n",
       " Timestamp('1900-01-01 03:12:00'): 1,\n",
       " Timestamp('1900-01-01 03:14:00'): 1,\n",
       " Timestamp('1900-01-01 03:16:00'): 1,\n",
       " Timestamp('1900-01-01 03:18:00'): 1,\n",
       " Timestamp('1900-01-01 03:20:00'): 1,\n",
       " Timestamp('1900-01-01 03:22:00'): 1,\n",
       " Timestamp('1900-01-01 03:24:00'): 0,\n",
       " Timestamp('1900-01-01 03:26:00'): 1,\n",
       " Timestamp('1900-01-01 03:28:00'): 1,\n",
       " Timestamp('1900-01-01 03:30:00'): 1,\n",
       " Timestamp('1900-01-01 03:32:00'): 2,\n",
       " Timestamp('1900-01-01 03:34:00'): 3,\n",
       " Timestamp('1900-01-01 03:36:00'): 3,\n",
       " Timestamp('1900-01-01 03:38:00'): 3,\n",
       " Timestamp('1900-01-01 03:40:00'): 3,\n",
       " Timestamp('1900-01-01 03:42:00'): 3,\n",
       " Timestamp('1900-01-01 03:44:00'): 3,\n",
       " Timestamp('1900-01-01 03:46:00'): 3,\n",
       " Timestamp('1900-01-01 03:48:00'): 3,\n",
       " Timestamp('1900-01-01 03:50:00'): 3,\n",
       " Timestamp('1900-01-01 03:52:00'): 4,\n",
       " Timestamp('1900-01-01 03:54:00'): 4,\n",
       " Timestamp('1900-01-01 03:56:00'): 3,\n",
       " Timestamp('1900-01-01 03:58:00'): 4,\n",
       " Timestamp('1900-01-01 04:00:00'): 5,\n",
       " Timestamp('1900-01-01 04:02:00'): 5,\n",
       " Timestamp('1900-01-01 04:04:00'): 4,\n",
       " Timestamp('1900-01-01 04:06:00'): 6,\n",
       " Timestamp('1900-01-01 04:08:00'): 6,\n",
       " Timestamp('1900-01-01 04:10:00'): 6,\n",
       " Timestamp('1900-01-01 04:12:00'): 7,\n",
       " Timestamp('1900-01-01 04:14:00'): 6,\n",
       " Timestamp('1900-01-01 04:16:00'): 6,\n",
       " Timestamp('1900-01-01 04:18:00'): 7,\n",
       " Timestamp('1900-01-01 04:20:00'): 5,\n",
       " Timestamp('1900-01-01 04:22:00'): 6,\n",
       " Timestamp('1900-01-01 04:24:00'): 6,\n",
       " Timestamp('1900-01-01 04:26:00'): 6,\n",
       " Timestamp('1900-01-01 04:28:00'): 5,\n",
       " Timestamp('1900-01-01 04:30:00'): 5,\n",
       " Timestamp('1900-01-01 04:32:00'): 5,\n",
       " Timestamp('1900-01-01 04:34:00'): 5,\n",
       " Timestamp('1900-01-01 04:36:00'): 5,\n",
       " Timestamp('1900-01-01 04:38:00'): 4,\n",
       " Timestamp('1900-01-01 04:40:00'): 5,\n",
       " Timestamp('1900-01-01 04:42:00'): 6,\n",
       " Timestamp('1900-01-01 04:44:00'): 5,\n",
       " Timestamp('1900-01-01 04:46:00'): 7,\n",
       " Timestamp('1900-01-01 04:48:00'): 7,\n",
       " Timestamp('1900-01-01 04:50:00'): 7,\n",
       " Timestamp('1900-01-01 04:52:00'): 6,\n",
       " Timestamp('1900-01-01 04:54:00'): 7,\n",
       " Timestamp('1900-01-01 04:56:00'): 6,\n",
       " Timestamp('1900-01-01 04:58:00'): 7,\n",
       " Timestamp('1900-01-01 05:00:00'): 8,\n",
       " Timestamp('1900-01-01 05:02:00'): 7,\n",
       " Timestamp('1900-01-01 05:04:00'): 8,\n",
       " Timestamp('1900-01-01 05:06:00'): 8,\n",
       " Timestamp('1900-01-01 05:08:00'): 8,\n",
       " Timestamp('1900-01-01 05:10:00'): 7,\n",
       " Timestamp('1900-01-01 05:12:00'): 9,\n",
       " Timestamp('1900-01-01 05:14:00'): 9,\n",
       " Timestamp('1900-01-01 05:16:00'): 9,\n",
       " Timestamp('1900-01-01 05:18:00'): 10,\n",
       " Timestamp('1900-01-01 05:20:00'): 9,\n",
       " Timestamp('1900-01-01 05:22:00'): 7,\n",
       " Timestamp('1900-01-01 05:24:00'): 9,\n",
       " Timestamp('1900-01-01 05:26:00'): 9,\n",
       " Timestamp('1900-01-01 05:28:00'): 9,\n",
       " Timestamp('1900-01-01 05:30:00'): 11,\n",
       " Timestamp('1900-01-01 05:32:00'): 11,\n",
       " Timestamp('1900-01-01 05:34:00'): 11,\n",
       " Timestamp('1900-01-01 05:36:00'): 10,\n",
       " Timestamp('1900-01-01 05:38:00'): 10,\n",
       " Timestamp('1900-01-01 05:40:00'): 11,\n",
       " Timestamp('1900-01-01 05:42:00'): 10,\n",
       " Timestamp('1900-01-01 05:44:00'): 8,\n",
       " Timestamp('1900-01-01 05:46:00'): 10,\n",
       " Timestamp('1900-01-01 05:48:00'): 10,\n",
       " Timestamp('1900-01-01 05:50:00'): 10,\n",
       " Timestamp('1900-01-01 05:52:00'): 11,\n",
       " Timestamp('1900-01-01 05:54:00'): 11,\n",
       " Timestamp('1900-01-01 05:56:00'): 12,\n",
       " Timestamp('1900-01-01 05:58:00'): 11,\n",
       " Timestamp('1900-01-01 06:00:00'): 12,\n",
       " Timestamp('1900-01-01 06:02:00'): 13,\n",
       " Timestamp('1900-01-01 06:04:00'): 13,\n",
       " Timestamp('1900-01-01 06:06:00'): 12,\n",
       " Timestamp('1900-01-01 06:08:00'): 11,\n",
       " Timestamp('1900-01-01 06:10:00'): 9,\n",
       " Timestamp('1900-01-01 06:12:00'): 8,\n",
       " Timestamp('1900-01-01 06:14:00'): 10,\n",
       " Timestamp('1900-01-01 06:16:00'): 11,\n",
       " Timestamp('1900-01-01 06:18:00'): 12,\n",
       " Timestamp('1900-01-01 06:20:00'): 12,\n",
       " Timestamp('1900-01-01 06:22:00'): 12,\n",
       " Timestamp('1900-01-01 06:24:00'): 11,\n",
       " Timestamp('1900-01-01 06:26:00'): 12,\n",
       " Timestamp('1900-01-01 06:28:00'): 12,\n",
       " Timestamp('1900-01-01 06:30:00'): 11,\n",
       " Timestamp('1900-01-01 06:32:00'): 10,\n",
       " Timestamp('1900-01-01 06:34:00'): 11,\n",
       " Timestamp('1900-01-01 06:36:00'): 11,\n",
       " Timestamp('1900-01-01 06:38:00'): 10,\n",
       " Timestamp('1900-01-01 06:40:00'): 11,\n",
       " Timestamp('1900-01-01 06:42:00'): 12,\n",
       " Timestamp('1900-01-01 06:44:00'): 11,\n",
       " Timestamp('1900-01-01 06:46:00'): 11,\n",
       " Timestamp('1900-01-01 06:48:00'): 13,\n",
       " Timestamp('1900-01-01 06:50:00'): 18,\n",
       " Timestamp('1900-01-01 06:52:00'): 16,\n",
       " Timestamp('1900-01-01 06:54:00'): 14,\n",
       " Timestamp('1900-01-01 06:56:00'): 14,\n",
       " Timestamp('1900-01-01 06:58:00'): 15,\n",
       " Timestamp('1900-01-01 07:00:00'): 14,\n",
       " Timestamp('1900-01-01 07:02:00'): 15,\n",
       " Timestamp('1900-01-01 07:04:00'): 15,\n",
       " Timestamp('1900-01-01 07:06:00'): 12,\n",
       " Timestamp('1900-01-01 07:08:00'): 14,\n",
       " Timestamp('1900-01-01 07:10:00'): 15,\n",
       " Timestamp('1900-01-01 07:12:00'): 16,\n",
       " Timestamp('1900-01-01 07:14:00'): 16,\n",
       " Timestamp('1900-01-01 07:16:00'): 16,\n",
       " Timestamp('1900-01-01 07:18:00'): 16,\n",
       " Timestamp('1900-01-01 07:20:00'): 17,\n",
       " Timestamp('1900-01-01 07:22:00'): 17,\n",
       " Timestamp('1900-01-01 07:24:00'): 17,\n",
       " Timestamp('1900-01-01 07:26:00'): 17,\n",
       " Timestamp('1900-01-01 07:28:00'): 18,\n",
       " Timestamp('1900-01-01 07:30:00'): 20,\n",
       " Timestamp('1900-01-01 07:32:00'): 23,\n",
       " Timestamp('1900-01-01 07:34:00'): 22,\n",
       " Timestamp('1900-01-01 07:36:00'): 21,\n",
       " Timestamp('1900-01-01 07:38:00'): 24,\n",
       " Timestamp('1900-01-01 07:40:00'): 25,\n",
       " Timestamp('1900-01-01 07:42:00'): 25,\n",
       " Timestamp('1900-01-01 07:44:00'): 26,\n",
       " Timestamp('1900-01-01 07:46:00'): 25,\n",
       " Timestamp('1900-01-01 07:48:00'): 25,\n",
       " Timestamp('1900-01-01 07:50:00'): 25,\n",
       " Timestamp('1900-01-01 07:52:00'): 23,\n",
       " Timestamp('1900-01-01 07:54:00'): 26,\n",
       " Timestamp('1900-01-01 07:56:00'): 26}"
      ]
     },
     "execution_count": 281,
     "metadata": {},
     "output_type": "execute_result"
    }
   ],
   "source": [
    "k"
   ]
  },
  {
   "cell_type": "code",
   "execution_count": 231,
   "metadata": {
    "scrolled": true
   },
   "outputs": [
    {
     "data": {
      "text/plain": [
       "3337128.9537712894"
      ]
     },
     "execution_count": 231,
     "metadata": {},
     "output_type": "execute_result"
    }
   ],
   "source": [
    "performance_indicator(df_avg_conc)"
   ]
  },
  {
   "cell_type": "code",
   "execution_count": 282,
   "metadata": {},
   "outputs": [
    {
     "data": {
      "image/png": "[encoded data removed]",
      "text/plain": [
       "<Figure size 432x288 with 1 Axes>"
      ]
     },
     "metadata": {
      "needs_background": "light"
     },
     "output_type": "display_data"
    }
   ],
   "source": [
    "k = sorted(k.items())\n",
    "x, y = zip(*k) \n",
    "plt.plot(x, y)\n",
    "plt.show()"
   ]
  },
  {
   "cell_type": "code",
   "execution_count": 38,
   "metadata": {
    "scrolled": true
   },
   "outputs": [
    {
     "data": {
      "text/plain": [
       "content-05333    2091\n",
       "content-05335    1556\n",
       "content-05334    1346\n",
       "content-13697    1221\n",
       "content-07770     971\n",
       "                 ... \n",
       "content-10324       1\n",
       "content-01070       1\n",
       "content-16196       1\n",
       "content-14779       1\n",
       "content-13351       1\n",
       "Name: content, Length: 16898, dtype: int64"
      ]
     },
     "execution_count": 38,
     "metadata": {},
     "output_type": "execute_result"
    }
   ],
   "source": [
    "df_StreamRoot['content'].value_counts()"
   ]
  },
  {
   "cell_type": "code",
   "execution_count": 103,
   "metadata": {},
   "outputs": [
    {
     "data": {
      "text/plain": [
       "167797    1562457767702\n",
       "167798    1562457887633\n",
       "167799    1562458007613\n",
       "17434     1562458023114\n",
       "167800    1562458127846\n",
       "17435     1562458131265\n",
       "167801    1562458247717\n",
       "17436     1562458250582\n",
       "17437     1562458370525\n",
       "167802    1562458487958\n",
       "Name: timestamp, dtype: int64"
      ]
     },
     "execution_count": 103,
     "metadata": {},
     "output_type": "execute_result"
    }
   ],
   "source": [
    "df_exm['timestamp'].nsmallest(10)"
   ]
  },
  {
   "cell_type": "code",
   "execution_count": 54,
   "metadata": {},
   "outputs": [],
   "source": [
    "# df[\"somecolumn\"] = df[\"somecolumn\"].astype(int)\n",
    "def pi_conc_10(df):\n",
    "    contents = df['content'].unique()\n",
    "    df_conc_10 = pd.DataFrame()\n",
    "    for j in contents:\n",
    "        df_new = df[df['content'] == j]\n",
    "        if df_new['isFirstPayload'].sum() < 10:\n",
    "            df_conc_10 = df_conc_10.append(df_new)\n",
    "    return df_conc_10"
   ]
  },
  {
   "cell_type": "code",
   "execution_count": 75,
   "metadata": {},
   "outputs": [
    {
     "name": "stdout",
     "output_type": "stream",
     "text": [
      "7525433.71522095\n"
     ]
    }
   ],
   "source": [
    "weak_contents = []\n",
    "df_new = df_stream_root[df_stream_root['content'] == 'content-00849']\n",
    "if df_new['isFirstPayload'].sum() < 10:\n",
    "    k = performance_indicator(df_new)\n",
    "    print(k)\n",
    "else:\n",
    "    print('None')"
   ]
  },
  {
   "cell_type": "code",
   "execution_count": 55,
   "metadata": {},
   "outputs": [],
   "source": [
    "df_conc_10 = pi_conc_10(df_stream_root)"
   ]
  },
  {
   "cell_type": "code",
   "execution_count": 77,
   "metadata": {
    "scrolled": true
   },
   "outputs": [],
   "source": [
    "df_ST_conc_10 = df_new[df_new['company'] == 'Streamroot TV']"
   ]
  },
  {
   "cell_type": "code",
   "execution_count": 79,
   "metadata": {},
   "outputs": [],
   "source": [
    "df_ST_conc_10_LP = df_ST_conc_10[df_ST_conc_10['isLastPayLoad'] == True]"
   ]
  },
  {
   "cell_type": "code",
   "execution_count": 82,
   "metadata": {},
   "outputs": [
    {
     "data": {
      "text/html": [
       "<div>\n",
       "<style scoped>\n",
       "    .dataframe tbody tr th:only-of-type {\n",
       "        vertical-align: middle;\n",
       "    }\n",
       "\n",
       "    .dataframe tbody tr th {\n",
       "        vertical-align: top;\n",
       "    }\n",
       "\n",
       "    .dataframe thead th {\n",
       "        text-align: right;\n",
       "    }\n",
       "</style>\n",
       "<table border=\"1\" class=\"dataframe\">\n",
       "  <thead>\n",
       "    <tr style=\"text-align: right;\">\n",
       "      <th></th>\n",
       "      <th>company</th>\n",
       "      <th>live</th>\n",
       "      <th>mediaEngine</th>\n",
       "      <th>p2p</th>\n",
       "      <th>cdn</th>\n",
       "      <th>upload</th>\n",
       "      <th>peers_count</th>\n",
       "      <th>peers_match</th>\n",
       "      <th>timestamp</th>\n",
       "      <th>sessionDuration</th>\n",
       "      <th>playbackErrorCount</th>\n",
       "      <th>totalPlaybackErrorCount</th>\n",
       "      <th>content</th>\n",
       "      <th>isFirstPayload</th>\n",
       "      <th>isLastPayLoad</th>\n",
       "      <th>readableDate</th>\n",
       "    </tr>\n",
       "  </thead>\n",
       "  <tbody>\n",
       "    <tr>\n",
       "      <th>116673</th>\n",
       "      <td>Streamroot TV</td>\n",
       "      <td>VOD</td>\n",
       "      <td>ME1</td>\n",
       "      <td>0.0</td>\n",
       "      <td>1853304.0</td>\n",
       "      <td>351400.0</td>\n",
       "      <td>0.60</td>\n",
       "      <td>41</td>\n",
       "      <td>1562465870560</td>\n",
       "      <td>120000.0</td>\n",
       "      <td>0</td>\n",
       "      <td>0</td>\n",
       "      <td>content-00849</td>\n",
       "      <td>True</td>\n",
       "      <td>True</td>\n",
       "      <td>04:15</td>\n",
       "    </tr>\n",
       "    <tr>\n",
       "      <th>189152</th>\n",
       "      <td>Streamroot TV</td>\n",
       "      <td>VOD</td>\n",
       "      <td>ME1</td>\n",
       "      <td>0.0</td>\n",
       "      <td>0.0</td>\n",
       "      <td>12511440.0</td>\n",
       "      <td>19.63</td>\n",
       "      <td>23</td>\n",
       "      <td>1562479130941</td>\n",
       "      <td>17760000.0</td>\n",
       "      <td>0</td>\n",
       "      <td>0</td>\n",
       "      <td>content-00849</td>\n",
       "      <td>False</td>\n",
       "      <td>True</td>\n",
       "      <td>07:56</td>\n",
       "    </tr>\n",
       "    <tr>\n",
       "      <th>240239</th>\n",
       "      <td>Streamroot TV</td>\n",
       "      <td>VOD</td>\n",
       "      <td>ME1</td>\n",
       "      <td>0.0</td>\n",
       "      <td>0.0</td>\n",
       "      <td>282580.0</td>\n",
       "      <td>17.12</td>\n",
       "      <td>37</td>\n",
       "      <td>1562479164939</td>\n",
       "      <td>16800000.0</td>\n",
       "      <td>0</td>\n",
       "      <td>0</td>\n",
       "      <td>content-00849</td>\n",
       "      <td>False</td>\n",
       "      <td>True</td>\n",
       "      <td>07:57</td>\n",
       "    </tr>\n",
       "    <tr>\n",
       "      <th>252924</th>\n",
       "      <td>Streamroot TV</td>\n",
       "      <td>VOD</td>\n",
       "      <td>ME1</td>\n",
       "      <td>0.0</td>\n",
       "      <td>0.0</td>\n",
       "      <td>30720.0</td>\n",
       "      <td>1.33</td>\n",
       "      <td>40</td>\n",
       "      <td>1562465731190</td>\n",
       "      <td>5040000.0</td>\n",
       "      <td>0</td>\n",
       "      <td>0</td>\n",
       "      <td>content-00849</td>\n",
       "      <td>False</td>\n",
       "      <td>True</td>\n",
       "      <td>04:13</td>\n",
       "    </tr>\n",
       "    <tr>\n",
       "      <th>276540</th>\n",
       "      <td>Streamroot TV</td>\n",
       "      <td>VOD</td>\n",
       "      <td>ME1</td>\n",
       "      <td>0.0</td>\n",
       "      <td>0.0</td>\n",
       "      <td>1140388.0</td>\n",
       "      <td>0.89</td>\n",
       "      <td>40</td>\n",
       "      <td>1562471748565</td>\n",
       "      <td>4320000.0</td>\n",
       "      <td>0</td>\n",
       "      <td>0</td>\n",
       "      <td>content-00849</td>\n",
       "      <td>False</td>\n",
       "      <td>True</td>\n",
       "      <td>05:53</td>\n",
       "    </tr>\n",
       "    <tr>\n",
       "      <th>289961</th>\n",
       "      <td>Streamroot TV</td>\n",
       "      <td>VOD</td>\n",
       "      <td>ME1</td>\n",
       "      <td>6197420.0</td>\n",
       "      <td>0.0</td>\n",
       "      <td>4350224.0</td>\n",
       "      <td>3.72</td>\n",
       "      <td>40</td>\n",
       "      <td>1562461719057</td>\n",
       "      <td>720000.0</td>\n",
       "      <td>0</td>\n",
       "      <td>0</td>\n",
       "      <td>content-00849</td>\n",
       "      <td>False</td>\n",
       "      <td>True</td>\n",
       "      <td>03:06</td>\n",
       "    </tr>\n",
       "    <tr>\n",
       "      <th>310660</th>\n",
       "      <td>Streamroot TV</td>\n",
       "      <td>VOD</td>\n",
       "      <td>ME1</td>\n",
       "      <td>0.0</td>\n",
       "      <td>0.0</td>\n",
       "      <td>6001476.0</td>\n",
       "      <td>18.53</td>\n",
       "      <td>30</td>\n",
       "      <td>1562479102693</td>\n",
       "      <td>20040000.0</td>\n",
       "      <td>0</td>\n",
       "      <td>0</td>\n",
       "      <td>content-00849</td>\n",
       "      <td>False</td>\n",
       "      <td>True</td>\n",
       "      <td>07:56</td>\n",
       "    </tr>\n",
       "    <tr>\n",
       "      <th>350950</th>\n",
       "      <td>Streamroot TV</td>\n",
       "      <td>VOD</td>\n",
       "      <td>ME1</td>\n",
       "      <td>0.0</td>\n",
       "      <td>0.0</td>\n",
       "      <td>793440.0</td>\n",
       "      <td>5.89</td>\n",
       "      <td>40</td>\n",
       "      <td>1562467802341</td>\n",
       "      <td>6960000.0</td>\n",
       "      <td>0</td>\n",
       "      <td>0</td>\n",
       "      <td>content-00849</td>\n",
       "      <td>False</td>\n",
       "      <td>True</td>\n",
       "      <td>04:48</td>\n",
       "    </tr>\n",
       "    <tr>\n",
       "      <th>369216</th>\n",
       "      <td>Streamroot TV</td>\n",
       "      <td>VOD</td>\n",
       "      <td>ME1</td>\n",
       "      <td>7640884.0</td>\n",
       "      <td>0.0</td>\n",
       "      <td>11906328.0</td>\n",
       "      <td>19.01</td>\n",
       "      <td>40</td>\n",
       "      <td>1562460288153</td>\n",
       "      <td>1560000.0</td>\n",
       "      <td>0</td>\n",
       "      <td>0</td>\n",
       "      <td>content-00849</td>\n",
       "      <td>False</td>\n",
       "      <td>True</td>\n",
       "      <td>02:42</td>\n",
       "    </tr>\n",
       "  </tbody>\n",
       "</table>\n",
       "</div>"
      ],
      "text/plain": [
       "              company live mediaEngine        p2p        cdn      upload  \\\n",
       "116673  Streamroot TV  VOD         ME1        0.0  1853304.0    351400.0   \n",
       "189152  Streamroot TV  VOD         ME1        0.0        0.0  12511440.0   \n",
       "240239  Streamroot TV  VOD         ME1        0.0        0.0    282580.0   \n",
       "252924  Streamroot TV  VOD         ME1        0.0        0.0     30720.0   \n",
       "276540  Streamroot TV  VOD         ME1        0.0        0.0   1140388.0   \n",
       "289961  Streamroot TV  VOD         ME1  6197420.0        0.0   4350224.0   \n",
       "310660  Streamroot TV  VOD         ME1        0.0        0.0   6001476.0   \n",
       "350950  Streamroot TV  VOD         ME1        0.0        0.0    793440.0   \n",
       "369216  Streamroot TV  VOD         ME1  7640884.0        0.0  11906328.0   \n",
       "\n",
       "        peers_count  peers_match      timestamp  sessionDuration  \\\n",
       "116673         0.60           41  1562465870560         120000.0   \n",
       "189152        19.63           23  1562479130941       17760000.0   \n",
       "240239        17.12           37  1562479164939       16800000.0   \n",
       "252924         1.33           40  1562465731190        5040000.0   \n",
       "276540         0.89           40  1562471748565        4320000.0   \n",
       "289961         3.72           40  1562461719057         720000.0   \n",
       "310660        18.53           30  1562479102693       20040000.0   \n",
       "350950         5.89           40  1562467802341        6960000.0   \n",
       "369216        19.01           40  1562460288153        1560000.0   \n",
       "\n",
       "        playbackErrorCount  totalPlaybackErrorCount        content  \\\n",
       "116673                   0                        0  content-00849   \n",
       "189152                   0                        0  content-00849   \n",
       "240239                   0                        0  content-00849   \n",
       "252924                   0                        0  content-00849   \n",
       "276540                   0                        0  content-00849   \n",
       "289961                   0                        0  content-00849   \n",
       "310660                   0                        0  content-00849   \n",
       "350950                   0                        0  content-00849   \n",
       "369216                   0                        0  content-00849   \n",
       "\n",
       "       isFirstPayload isLastPayLoad readableDate  \n",
       "116673           True          True        04:15  \n",
       "189152          False          True        07:56  \n",
       "240239          False          True        07:57  \n",
       "252924          False          True        04:13  \n",
       "276540          False          True        05:53  \n",
       "289961          False          True        03:06  \n",
       "310660          False          True        07:56  \n",
       "350950          False          True        04:48  \n",
       "369216          False          True        02:42  "
      ]
     },
     "execution_count": 82,
     "metadata": {},
     "output_type": "execute_result"
    }
   ],
   "source": [
    "df_ST_conc_10_LP"
   ]
  },
  {
   "cell_type": "code",
   "execution_count": 80,
   "metadata": {},
   "outputs": [
    {
     "data": {
      "text/plain": [
       "8146666.666666667"
      ]
     },
     "execution_count": 80,
     "metadata": {},
     "output_type": "execute_result"
    }
   ],
   "source": [
    "performance_indicator(df_ST_conc_10_LP)"
   ]
  },
  {
   "cell_type": "code",
   "execution_count": 80,
   "metadata": {},
   "outputs": [
    {
     "data": {
      "text/plain": [
       "8146666.666666667"
      ]
     },
     "execution_count": 80,
     "metadata": {},
     "output_type": "execute_result"
    }
   ],
   "source": [
    "performance_indicator(df_ST_conc_10_LP)"
   ]
  },
  {
   "cell_type": "code",
   "execution_count": null,
   "metadata": {},
   "outputs": [],
   "source": []
  }
 ],
 "metadata": {
  "kernelspec": {
   "display_name": "Python 3",
   "language": "python",
   "name": "python3"
  },
  "language_info": {
   "codemirror_mode": {
    "name": "ipython",
    "version": 3
   },
   "file_extension": ".py",
   "mimetype": "text/x-python",
   "name": "python",
   "nbconvert_exporter": "python",
   "pygments_lexer": "ipython3",
   "version": "3.7.6"
  }
 },
 "nbformat": 4,
 "nbformat_minor": 4
}
